{
 "cells": [
  {
   "cell_type": "code",
   "execution_count": 1,
   "metadata": {
    "collapsed": false,
    "scrolled": true
   },
   "outputs": [],
   "source": [
    "import requests\n",
    "from requests_futures.sessions import FuturesSession\n",
    "import datetime as dt\n",
    "import time\n",
    "import sys\n",
    "from drafterANN import *\n",
    "import socket\n",
    "import pickle\n",
    "\n",
    "api_keys = ['FE70CE9FC0D6D99279498CE852587F59','2FEC67172AAC0C393EC209A225A7E51E']\n",
    "api_key_num = 1\n",
    "api_key = api_keys[api_key_num]\n",
    "sleep_time = 7\n",
    "\n",
    "drafter = DotoAnn()\n",
    "\n",
    "leagues = ['4479']\n",
    "\n",
    "i = 0\n",
    "errors = 0\n",
    "\n",
    "session = FuturesSession()\n",
    "\n",
    "def next_matches(league_id):\n",
    "    url = 'https://api.steampowered.com/IDOTA2Match_570/GetMatchHistory/V001/?key=' + api_key + '&league_id=' + league_id + '&start_at_match_id=' + str(next_id) + '&min_players=10'\n",
    "    return session.get(url, timeout=4)\n",
    "\n",
    "def next_match(match_id):\n",
    "    url = 'https://api.steampowered.com/IDOTA2Match_570/GetMatchDetails/V001/?key=' + api_key + '&match_id=' + str(match_id)\n",
    "    return session.get(url, timeout=4)\n",
    "\n",
    "matches_bulk = list()\n",
    "\n",
    "for league_id in leagues:\n",
    "    next_id = ''\n",
    "    req = next_matches(league_id)\n",
    "    while True:\n",
    "        try:\n",
    "            try:\n",
    "                r = req.result()\n",
    "            except (requests.ConnectionError, requests.Timeout, socket.timeout):\n",
    "                print(\"Unexpected error:\", sys.exc_info()[0])\n",
    "                errors += 1\n",
    "                time.sleep(sleep_time)\n",
    "                req = next_matches(league_id)\n",
    "                continue\n",
    "\n",
    "            if (r.status_code != 200):\n",
    "                errors += 1\n",
    "                time.sleep(sleep_time)\n",
    "                req = next_matches(league_id)\n",
    "                continue\n",
    "            if 'matches' in r.json()['result']:\n",
    "                matches = r.json()['result']['matches']\n",
    "            else:\n",
    "                time.sleep(sleep_time)\n",
    "                req = next_matches(league_id)\n",
    "                continue\n",
    "\n",
    "            if len(matches) == 0:\n",
    "                break\n",
    "\n",
    "            next_id = matches[-1]['match_id'] - 1\n",
    "            req = next_matches(league_id)\n",
    "\n",
    "            for match in matches:\n",
    "                m_req = next_match(match['match_id'])\n",
    "\n",
    "                m = dict(id=match['match_id'])\n",
    "                r_heroes = []\n",
    "                d_heroes = []\n",
    "                for player in match['players']:\n",
    "                    if player['player_slot'] < 100:\n",
    "                        r_heroes.append(str(player['hero_id']))\n",
    "                    else:\n",
    "                        d_heroes.append(str(player['hero_id']))\n",
    "                m['radiant_heroes'] = \",\".join(r_heroes)\n",
    "                m['dire_heroes'] = \",\".join(d_heroes)\n",
    "\n",
    "                while True:\n",
    "                    try:\n",
    "                        m_res = m_req.result()\n",
    "                    except (requests.ConnectionError, requests.Timeout, socket.timeout):\n",
    "                        print(\"Unexpected error:\", sys.exc_info()[0])\n",
    "                        errors += 1\n",
    "                        time.sleep(sleep_time)\n",
    "                        m_req = next_match(match['match_id'])\n",
    "                        continue\n",
    "                    if (m_res.status_code != 200):\n",
    "                        errors += 1\n",
    "                        time.sleep(sleep_time)\n",
    "                        m_req = next_match(match['match_id'])\n",
    "                        continue\n",
    "                    if 'radiant_win' in m_res.json()['result']:\n",
    "                        rad_win = m_res.json()['result']['radiant_win']\n",
    "                    else:\n",
    "                        time.sleep(sleep_time)\n",
    "                        m_req = next_match(match['match_id'])\n",
    "                        continue\n",
    "                    m['radiant_win'] = rad_win\n",
    "                    break\n",
    "                matches_bulk.append(m)\n",
    "        except BaseException as e:\n",
    "            print(\"Errors: \", errors)\n",
    "            raise e\n",
    "\n",
    "with open('data/league_matches.pickle','wb') as f:\n",
    "    pickle.dump(matches_bulk,f)"
   ]
  },
  {
   "cell_type": "code",
   "execution_count": 3,
   "metadata": {
    "collapsed": false
   },
   "outputs": [
    {
     "name": "stdout",
     "output_type": "stream",
     "text": [
      "3000\n"
     ]
    }
   ],
   "source": [
    "from drafterANN import *\n",
    "drafter = DotoAnn()\n",
    "\n",
    "epoch_size = 3000\n",
    "matches_bulk = list()\n",
    "\n",
    "for m in Match.select().order_by(Match.seq_num.desc()).limit(epoch_size):\n",
    "    match = {'radiant_heroes': m.radiant_heroes, 'dire_heroes': m.dire_heroes, 'radiant_win': m.radiant_win}\n",
    "    matches_bulk.append(match)\n",
    "    \n",
    "print(len(matches_bulk))"
   ]
  },
  {
   "cell_type": "code",
   "execution_count": 11,
   "metadata": {
    "collapsed": false
   },
   "outputs": [
    {
     "name": "stdout",
     "output_type": "stream",
     "text": [
      "319\n",
      "Accuracy 0.545454545455\n",
      "Sample 319\n",
      "Avg Certainty 0.621082474196\n",
      "Accuracy 0.545454545455\n",
      "Sample 319\n",
      "Avg Certainty 0.620243101902\n"
     ]
    },
    {
     "name": "stderr",
     "output_type": "stream",
     "text": [
      "/usr/local/lib/python3.4/dist-packages/ipykernel/__main__.py:26: DeprecationWarning: using a boolean instead of an integer will result in an error in the future\n"
     ]
    },
    {
     "name": "stdout",
     "output_type": "stream",
     "text": [
      "Accuracy 0.545454545455\n",
      "Sample 319\n",
      "Avg Certainty 0.619448226929\n",
      "Accuracy 0.542319749216\n",
      "Sample 319\n",
      "Avg Certainty 0.618776072481\n",
      "Accuracy 0.542319749216\n",
      "Sample 319\n",
      "Avg Certainty 0.618207950554\n",
      "Accuracy 0.542319749216\n",
      "Sample 319\n",
      "Avg Certainty 0.617717127966\n",
      "Accuracy 0.539184952978\n",
      "Sample 319\n",
      "Avg Certainty 0.617337884337\n",
      "Accuracy 0.545454545455\n",
      "Sample 319\n",
      "Avg Certainty 0.617114748013\n",
      "Accuracy 0.542319749216\n",
      "Sample 319\n",
      "Avg Certainty 0.616922407359\n",
      "Accuracy 0.548589341693\n",
      "Sample 319\n",
      "Avg Certainty 0.616789138081\n",
      "Accuracy 0.548589341693\n",
      "Sample 319\n",
      "Avg Certainty 0.616765277077\n",
      "Accuracy 0.551724137931\n",
      "Sample 319\n",
      "Avg Certainty 0.616758233105\n",
      "Accuracy 0.554858934169\n",
      "Sample 319\n",
      "Avg Certainty 0.61674969635\n",
      "Accuracy 0.561128526646\n",
      "Sample 319\n",
      "Avg Certainty 0.616779898298\n",
      "Accuracy 0.564263322884\n",
      "Sample 319\n",
      "Avg Certainty 0.616870043645\n",
      "Accuracy 0.557993730408\n",
      "Sample 319\n",
      "Avg Certainty 0.617158694866\n",
      "Accuracy 0.561128526646\n",
      "Sample 319\n",
      "Avg Certainty 0.61760567602\n"
     ]
    }
   ],
   "source": [
    "from drafterANN import *\n",
    "import pickle\n",
    "\n",
    "with open('data/league_matches.pickle','rb') as f:\n",
    "     matches_bulk = pickle.load(f)\n",
    "print(len(matches_bulk))\n",
    "\n",
    "drafter = DotoAnn()\n",
    "\n",
    "def check_accuracy(mmr):\n",
    "    ys = []\n",
    "    for x in mmr:\n",
    "        avg_certainty = 0\n",
    "        correct_preds = 0\n",
    "        \n",
    "        batch_xs = np.zeros((len(matches_bulk), n_input), np.int)\n",
    "        batch_ys = np.zeros((len(matches_bulk), n_out), np.int)\n",
    "        for i,m in enumerate(matches_bulk):\n",
    "            xs = np.zeros((1, n_input), np.int)\n",
    "            for h in m['radiant_heroes'].split(\",\"):\n",
    "                xs[0][int(h)] = 1\n",
    "            for h in m['dire_heroes'].split(\",\"):\n",
    "                xs[0][int(h) + max_heroes] = 1\n",
    "            batch_xs[i] = xs\n",
    "            outs = np.zeros((1, n_out), np.int)\n",
    "            outs[0][not m['radiant_win']] = 1\n",
    "            batch_ys[i] = outs\n",
    "        out = drafter.run(batch_xs, x)\n",
    "        \n",
    "        i2=0\n",
    "        for i, m in enumerate(out):\n",
    "            certainty = abs(m[0] - 0.5)\n",
    "            if (certainty > 0.0):\n",
    "                avg_certainty += certainty\n",
    "                correct_preds += np.argmax(m) == np.argmax(batch_ys[i])\n",
    "                i2+=1\n",
    "        print(\"Accuracy\", correct_preds/i2)\n",
    "        print(\"Sample\", i2)\n",
    "        print(\"Avg Certainty\", avg_certainty/i2 + 0.5)\n",
    "        ys.append(correct_preds/i2)\n",
    "    return ys\n",
    "\n",
    "\n",
    "x = [1000,1500,2000,2500,3000,3500,4000,4500,5000,5500,6000,6500,7000,7500,8000,8500,9000]\n",
    "y = check_accuracy(x)"
   ]
  },
  {
   "cell_type": "code",
   "execution_count": 12,
   "metadata": {
    "collapsed": false
   },
   "outputs": [
    {
     "data": {
      "text/plain": [
       "[<matplotlib.lines.Line2D at 0x7efe5cf75860>]"
      ]
     },
     "execution_count": 12,
     "metadata": {},
     "output_type": "execute_result"
    },
    {
     "data": {
      "image/png": "[encoded data removed]",
      "text/plain": [
       "<matplotlib.figure.Figure at 0x7efe68150cf8>"
      ]
     },
     "metadata": {},
     "output_type": "display_data"
    }
   ],
   "source": [
    "import matplotlib.pyplot as plt\n",
    "%matplotlib inline\n",
    "\n",
    "plt.plot(x,y)"
   ]
  },
  {
   "cell_type": "code",
   "execution_count": null,
   "metadata": {
    "collapsed": true
   },
   "outputs": [],
   "source": []
  }
 ],
 "metadata": {
  "kernelspec": {
   "display_name": "Python 3",
   "language": "python",
   "name": "python3"
  },
  "language_info": {
   "codemirror_mode": {
    "name": "ipython",
    "version": 3
   },
   "file_extension": ".py",
   "mimetype": "text/x-python",
   "name": "python",
   "nbconvert_exporter": "python",
   "pygments_lexer": "ipython3",
   "version": "3.4.3"
  }
 },
 "nbformat": 4,
 "nbformat_minor": 0
}
