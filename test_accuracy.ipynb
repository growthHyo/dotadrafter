{
 "cells": [
  {
   "cell_type": "code",
   "execution_count": 5,
   "metadata": {
    "collapsed": false
   },
   "outputs": [],
   "source": [
    "import requests\n",
    "from requests_futures.sessions import FuturesSession\n",
    "import datetime as dt\n",
    "import time\n",
    "import sys\n",
    "from drafterANN import *\n",
    "import socket\n",
    "\n",
    "api_keys = ['FE70CE9FC0D6D99279498CE852587F59','2FEC67172AAC0C393EC209A225A7E51E']\n",
    "api_key_num = 1\n",
    "api_key = api_keys[api_key_num]\n",
    "sleep_time = 7\n",
    "\n",
    "drafter = DotoAnn()\n",
    "\n",
    "next_id = ''\n",
    "league_id = '4266'\n",
    "\n",
    "i = 0\n",
    "errors = 0\n",
    "\n",
    "session = FuturesSession()\n",
    "\n",
    "def next_matches():\n",
    "    url = 'https://api.steampowered.com/IDOTA2Match_570/GetMatchHistory/V001/?key=' + api_key + '&league_id=' + league_id + '&start_at_match_id=' + str(next_id) + '&min_players=10'\n",
    "    return session.get(url, timeout=4)\n",
    "\n",
    "def next_match(match_id):\n",
    "    url = 'https://api.steampowered.com/IDOTA2Match_570/GetMatchDetails/V001/?key=' + api_key + '&match_id=' + str(match_id)\n",
    "    return session.get(url, timeout=4)\n",
    "\n",
    "req = next_matches()\n",
    "\n",
    "matches_bulk = list()\n",
    "\n",
    "while True:\n",
    "    try:\n",
    "        try:\n",
    "            r = req.result()\n",
    "        except (requests.ConnectionError, requests.Timeout, socket.timeout):\n",
    "            print(\"Unexpected error:\", sys.exc_info()[0])\n",
    "            errors += 1\n",
    "            time.sleep(sleep_time)\n",
    "            req = next_matches()\n",
    "            continue\n",
    "        \n",
    "        if (r.status_code != 200):\n",
    "            errors += 1\n",
    "            time.sleep(sleep_time)\n",
    "            req = next_matches()\n",
    "            continue\n",
    "        if 'matches' in r.json()['result']:\n",
    "            matches = r.json()['result']['matches']\n",
    "        else:\n",
    "            time.sleep(sleep_time)\n",
    "            req = next_matches()\n",
    "            continue\n",
    "\n",
    "        if len(matches) == 0:\n",
    "            break\n",
    "            \n",
    "        next_id = matches[-1]['match_id'] - 1\n",
    "        req = next_matches()\n",
    "\n",
    "        for match in matches:\n",
    "            m_req = next_match(match['match_id'])\n",
    "            \n",
    "            m = dict(id=match['match_id'])\n",
    "            r_heroes = []\n",
    "            d_heroes = []\n",
    "            for player in match['players']:\n",
    "                if player['player_slot'] < 100:\n",
    "                    r_heroes.append(str(player['hero_id']))\n",
    "                else:\n",
    "                    d_heroes.append(str(player['hero_id']))\n",
    "            m['radiant_heroes'] = \",\".join(r_heroes)\n",
    "            m['dire_heroes'] = \",\".join(d_heroes)\n",
    "            \n",
    "            while True:\n",
    "                try:\n",
    "                    m_res = m_req.result()\n",
    "                except (requests.ConnectionError, requests.Timeout, socket.timeout):\n",
    "                    print(\"Unexpected error:\", sys.exc_info()[0])\n",
    "                    errors += 1\n",
    "                    time.sleep(sleep_time)\n",
    "                    m_req = next_match(match['match_id'])\n",
    "                    continue\n",
    "                if (m_res.status_code != 200):\n",
    "                    errors += 1\n",
    "                    time.sleep(sleep_time)\n",
    "                    m_req = next_match(match['match_id'])\n",
    "                    continue\n",
    "                if 'radiant_win' in m_res.json()['result']:\n",
    "                    rad_win = m_res.json()['result']['radiant_win']\n",
    "                else:\n",
    "                    time.sleep(sleep_time)\n",
    "                    m_req = next_match(match['match_id'])\n",
    "                    continue\n",
    "                m['radiant_win'] = rad_win\n",
    "                break\n",
    "            matches_bulk.append(m)\n",
    "    except BaseException as e:\n",
    "        print(\"Errors: \", errors)\n",
    "        raise e\n",
    "            \n"
   ]
  },
  {
   "cell_type": "code",
   "execution_count": 3,
   "metadata": {
    "collapsed": false
   },
   "outputs": [
    {
     "name": "stdout",
     "output_type": "stream",
     "text": [
      "3000\n"
     ]
    }
   ],
   "source": [
    "from drafterANN import *\n",
    "drafter = DotoAnn()\n",
    "\n",
    "epoch_size = 3000\n",
    "matches_bulk = list()\n",
    "\n",
    "for m in Match.select().order_by(Match.seq_num.desc()).limit(epoch_size):\n",
    "    match = {'radiant_heroes': m.radiant_heroes, 'dire_heroes': m.dire_heroes, 'radiant_win': m.radiant_win}\n",
    "    matches_bulk.append(match)\n",
    "    \n",
    "print(len(matches_bulk))"
   ]
  },
  {
   "cell_type": "code",
   "execution_count": 6,
   "metadata": {
    "collapsed": false
   },
   "outputs": [
    {
     "name": "stderr",
     "output_type": "stream",
     "text": [
      "/usr/local/lib/python3.4/dist-packages/ipykernel/__main__.py:17: DeprecationWarning: using a boolean instead of an integer will result in an error in the future\n"
     ]
    },
    {
     "name": "stdout",
     "output_type": "stream",
     "text": [
      "Accuracy 0.555184\n",
      "Sample 299\n",
      "Avg Certainty 0.621775589809\n"
     ]
    }
   ],
   "source": [
    "if len(matches_bulk) > 0:\n",
    "    batch_xs = np.zeros((len(matches_bulk), n_input), np.int)\n",
    "    batch_ys = np.zeros((len(matches_bulk), n_out), np.int)\n",
    "    i2=0\n",
    "    avg_certainty = 0\n",
    "    for m in matches_bulk:\n",
    "        xs = np.zeros((1, n_input), np.int)\n",
    "        for h in m['radiant_heroes'].split(\",\"):\n",
    "            xs[0][int(h)] = 1\n",
    "        for h in m['dire_heroes'].split(\",\"):\n",
    "            xs[0][int(h) + max_heroes] = 1\n",
    "        certainty = abs(drafter.run(xs)[0][0] - 0.5)\n",
    "        if (certainty > 0.0):\n",
    "            avg_certainty += abs(drafter.run(xs)[0][0] - 0.5)\n",
    "\n",
    "            batch_xs[i2] = xs\n",
    "            batch_ys[i2][not m['radiant_win']] = 1\n",
    "            i2+=1\n",
    "        \n",
    "    print(\"Accuracy\", drafter.test_accuracy(batch_xs[:i2], batch_ys[:i2]))\n",
    "    print(\"Sample\", i2)\n",
    "    print(\"Avg Certainty\", avg_certainty/i2 + 0.5)"
   ]
  },
  {
   "cell_type": "code",
   "execution_count": null,
   "metadata": {
    "collapsed": true
   },
   "outputs": [],
   "source": []
  }
 ],
 "metadata": {
  "kernelspec": {
   "display_name": "Python 3",
   "language": "python",
   "name": "python3"
  },
  "language_info": {
   "codemirror_mode": {
    "name": "ipython",
    "version": 3
   },
   "file_extension": ".py",
   "mimetype": "text/x-python",
   "name": "python",
   "nbconvert_exporter": "python",
   "pygments_lexer": "ipython3",
   "version": "3.4.3"
  }
 },
 "nbformat": 4,
 "nbformat_minor": 0
}
