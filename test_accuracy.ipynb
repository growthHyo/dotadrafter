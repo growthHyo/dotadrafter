{
 "cells": [
  {
   "cell_type": "code",
   "execution_count": 1,
   "metadata": {
    "collapsed": false,
    "scrolled": true
   },
   "outputs": [],
   "source": [
    "import requests\n",
    "from requests_futures.sessions import FuturesSession\n",
    "import datetime as dt\n",
    "import time\n",
    "import sys\n",
    "from drafterANN import *\n",
    "import socket\n",
    "import pickle\n",
    "\n",
    "api_keys = ['FE70CE9FC0D6D99279498CE852587F59','2FEC67172AAC0C393EC209A225A7E51E']\n",
    "api_key_num = 1\n",
    "api_key = api_keys[api_key_num]\n",
    "sleep_time = 7\n",
    "\n",
    "drafter = DotoAnn()\n",
    "\n",
    "leagues = ['4664']\n",
    "\n",
    "i = 0\n",
    "errors = 0\n",
    "\n",
    "session = FuturesSession()\n",
    "\n",
    "def next_matches(league_id):\n",
    "    url = 'https://api.steampowered.com/IDOTA2Match_570/GetMatchHistory/V001/?key=' + api_key + '&league_id=' + league_id + '&start_at_match_id=' + str(next_id) + '&min_players=10'\n",
    "    return session.get(url, timeout=4)\n",
    "\n",
    "def next_match(match_id):\n",
    "    url = 'https://api.steampowered.com/IDOTA2Match_570/GetMatchDetails/V001/?key=' + api_key + '&match_id=' + str(match_id)\n",
    "    return session.get(url, timeout=4)\n",
    "\n",
    "matches_bulk = list()\n",
    "\n",
    "for league_id in leagues:\n",
    "    next_id = ''\n",
    "    req = next_matches(league_id)\n",
    "    while True:\n",
    "        try:\n",
    "            try:\n",
    "                r = req.result()\n",
    "            except (requests.ConnectionError, requests.Timeout, socket.timeout):\n",
    "                print(\"Unexpected error:\", sys.exc_info()[0])\n",
    "                errors += 1\n",
    "                time.sleep(sleep_time)\n",
    "                req = next_matches(league_id)\n",
    "                continue\n",
    "\n",
    "            if (r.status_code != 200):\n",
    "                errors += 1\n",
    "                time.sleep(sleep_time)\n",
    "                req = next_matches(league_id)\n",
    "                continue\n",
    "            if 'matches' in r.json()['result']:\n",
    "                matches = r.json()['result']['matches']\n",
    "            else:\n",
    "                time.sleep(sleep_time)\n",
    "                req = next_matches(league_id)\n",
    "                continue\n",
    "\n",
    "            if len(matches) == 0:\n",
    "                break\n",
    "\n",
    "            next_id = matches[-1]['match_id'] - 1\n",
    "            req = next_matches(league_id)\n",
    "\n",
    "            for match in matches:\n",
    "                m_req = next_match(match['match_id'])\n",
    "\n",
    "                m = dict(id=match['match_id'])\n",
    "                r_heroes = []\n",
    "                d_heroes = []\n",
    "                for player in match['players']:\n",
    "                    if player['player_slot'] < 100:\n",
    "                        r_heroes.append(str(player['hero_id']))\n",
    "                    else:\n",
    "                        d_heroes.append(str(player['hero_id']))\n",
    "                m['radiant_heroes'] = \",\".join(r_heroes)\n",
    "                m['dire_heroes'] = \",\".join(d_heroes)\n",
    "\n",
    "                while True:\n",
    "                    try:\n",
    "                        m_res = m_req.result()\n",
    "                    except (requests.ConnectionError, requests.Timeout, socket.timeout):\n",
    "                        print(\"Unexpected error:\", sys.exc_info()[0])\n",
    "                        errors += 1\n",
    "                        time.sleep(sleep_time)\n",
    "                        m_req = next_match(match['match_id'])\n",
    "                        continue\n",
    "                    if (m_res.status_code != 200):\n",
    "                        errors += 1\n",
    "                        time.sleep(sleep_time)\n",
    "                        m_req = next_match(match['match_id'])\n",
    "                        continue\n",
    "                    if 'radiant_win' in m_res.json()['result']:\n",
    "                        rad_win = m_res.json()['result']['radiant_win']\n",
    "                    else:\n",
    "                        time.sleep(sleep_time)\n",
    "                        m_req = next_match(match['match_id'])\n",
    "                        continue\n",
    "                    m['radiant_win'] = rad_win\n",
    "                    break\n",
    "                matches_bulk.append(m)\n",
    "        except BaseException as e:\n",
    "            print(\"Errors: \", errors)\n",
    "            raise e\n",
    "\n",
    "with open('data/league_matches.pickle','wb') as f:\n",
    "    pickle.dump(matches_bulk,f)"
   ]
  },
  {
   "cell_type": "code",
   "execution_count": 3,
   "metadata": {
    "collapsed": false
   },
   "outputs": [
    {
     "name": "stdout",
     "output_type": "stream",
     "text": [
      "3000\n"
     ]
    }
   ],
   "source": [
    "from drafterANN import *\n",
    "drafter = DotoAnn()\n",
    "\n",
    "epoch_size = 3000\n",
    "matches_bulk = list()\n",
    "\n",
    "for m in Match.select().order_by(Match.seq_num.desc()).limit(epoch_size):\n",
    "    match = {'radiant_heroes': m.radiant_heroes, 'dire_heroes': m.dire_heroes, 'radiant_win': m.radiant_win}\n",
    "    matches_bulk.append(match)\n",
    "    \n",
    "print(len(matches_bulk))"
   ]
  },
  {
   "cell_type": "code",
   "execution_count": 48,
   "metadata": {
    "collapsed": false
   },
   "outputs": [
    {
     "name": "stdout",
     "output_type": "stream",
     "text": [
      "398\n",
      "Accuracy 0.592964824121\n",
      "Avg Certainty 0.608619130437\n"
     ]
    },
    {
     "name": "stderr",
     "output_type": "stream",
     "text": [
      "/usr/local/lib/python3.4/dist-packages/ipykernel/__main__.py:27: DeprecationWarning: using a boolean instead of an integer will result in an error in the future\n"
     ]
    },
    {
     "name": "stdout",
     "output_type": "stream",
     "text": [
      "Accuracy 0.597989949749\n",
      "Avg Certainty 0.607410844987\n",
      "Accuracy 0.597989949749\n",
      "Avg Certainty 0.606316421718\n",
      "Accuracy 0.592964824121\n",
      "Avg Certainty 0.605369200322\n",
      "Accuracy 0.590452261307\n",
      "Avg Certainty 0.604514179128\n",
      "Accuracy 0.595477386935\n",
      "Avg Certainty 0.603739662459\n",
      "Accuracy 0.590452261307\n",
      "Avg Certainty 0.603021133664\n",
      "Accuracy 0.587939698492\n",
      "Avg Certainty 0.602362315886\n",
      "Accuracy 0.58040201005\n",
      "Avg Certainty 0.601813606766\n",
      "Accuracy 0.577889447236\n",
      "Avg Certainty 0.601358502757\n",
      "Accuracy 0.587939698492\n",
      "Avg Certainty 0.60094996262\n",
      "Accuracy 0.590452261307\n",
      "Avg Certainty 0.600727719356\n",
      "Accuracy 0.597989949749\n",
      "Avg Certainty 0.600639098031\n",
      "Accuracy 0.600502512563\n",
      "Avg Certainty 0.600608277941\n",
      "Accuracy 0.600502512563\n",
      "Avg Certainty 0.600653054457\n",
      "Accuracy 0.597989949749\n",
      "Avg Certainty 0.60074576019\n",
      "Accuracy 0.595477386935\n",
      "Avg Certainty 0.600936176112\n",
      "Accuracy 0.590452261307\n",
      "Avg Certainty 0.601204168532\n",
      "Accuracy 0.587939698492\n",
      "Avg Certainty 0.601673744663\n",
      "Accuracy 0.582914572864\n",
      "Avg Certainty 0.602296267949\n"
     ]
    }
   ],
   "source": [
    "from drafterANN import *\n",
    "import pickle\n",
    "\n",
    "with open('data/league_matches.pickle','rb') as f:\n",
    "     matches_bulk = pickle.load(f)\n",
    "print(len(matches_bulk))\n",
    "\n",
    "drafter = DotoAnn()\n",
    "samples = []\n",
    "\n",
    "def check_accuracy_for_mmr(mmr):\n",
    "    ys = []\n",
    "    for x in mmr:\n",
    "        avg_certainty = 0\n",
    "        correct_preds = 0\n",
    "        \n",
    "        batch_xs = np.zeros((len(matches_bulk), n_input), np.int)\n",
    "        batch_ys = np.zeros((len(matches_bulk), n_out), np.int)\n",
    "        for i,m in enumerate(matches_bulk):\n",
    "            xs = np.zeros((1, n_input), np.int)\n",
    "            for h in m['radiant_heroes'].split(\",\"):\n",
    "                xs[0][int(h)] = 1\n",
    "            for h in m['dire_heroes'].split(\",\"):\n",
    "                xs[0][int(h) + max_heroes] = 1\n",
    "            batch_xs[i] = xs\n",
    "            outs = np.zeros((1, n_out), np.int)\n",
    "            outs[0][not m['radiant_win']] = 1\n",
    "            batch_ys[i] = outs\n",
    "        out = drafter.run(batch_xs, x)\n",
    "        \n",
    "        i2=0\n",
    "        for i, m in enumerate(out):\n",
    "            certainty = abs(m[0] - 0.5)\n",
    "            if (certainty > 0.0):\n",
    "                avg_certainty += certainty\n",
    "                correct_preds += np.argmax(m) == np.argmax(batch_ys[i])\n",
    "                i2+=1\n",
    "        print(\"Accuracy\", correct_preds/i2)\n",
    "        #print(\"Sample\", i2)\n",
    "        print(\"Avg Certainty\", avg_certainty/i2 + 0.5)\n",
    "        samples.append(i2)\n",
    "        ys.append(correct_preds/i2)\n",
    "    return ys\n",
    "\n",
    "\n",
    "x = [1000,1500,2000,2500,3000,3500,4000,4500,5000,5500,6000,6500,7000,7500,8000,8500,9000]\n",
    "x = np.linspace(1000, 9000, num=20)\n",
    "y = check_accuracy_for_mmr(x)"
   ]
  },
  {
   "cell_type": "code",
   "execution_count": 50,
   "metadata": {
    "collapsed": false
   },
   "outputs": [
    {
     "data": {
      "text/plain": [
       "[<matplotlib.lines.Line2D at 0x7f4954005a90>]"
      ]
     },
     "execution_count": 50,
     "metadata": {},
     "output_type": "execute_result"
    },
    {
     "data": {
      "image/png": "[encoded data removed]",
      "text/plain": [
       "<matplotlib.figure.Figure at 0x7f4954055550>"
      ]
     },
     "metadata": {},
     "output_type": "display_data"
    },
    {
     "data": {
      "image/png": "[encoded data removed]",
      "text/plain": [
       "<matplotlib.figure.Figure at 0x7f495417ae10>"
      ]
     },
     "metadata": {},
     "output_type": "display_data"
    }
   ],
   "source": [
    "import matplotlib.pyplot as plt\n",
    "%matplotlib inline\n",
    "\n",
    "fig = plt.figure()\n",
    "fig.suptitle('TI6 Matches', fontsize=20)\n",
    "plt.xlabel('MMR', fontsize=18)\n",
    "plt.ylabel('Accuracy', fontsize=16)\n",
    "plt.plot(x,y)\n",
    "\n",
    "fig = plt.figure()\n",
    "fig.suptitle('TI6 Matches', fontsize=20)\n",
    "plt.xlabel('MMR', fontsize=18)\n",
    "plt.ylabel('Sample Size', fontsize=16)\n",
    "plt.plot(x,samples)"
   ]
  },
  {
   "cell_type": "code",
   "execution_count": 54,
   "metadata": {
    "collapsed": false
   },
   "outputs": [
    {
     "name": "stdout",
     "output_type": "stream",
     "text": [
      "398\n"
     ]
    },
    {
     "name": "stderr",
     "output_type": "stream",
     "text": [
      "/usr/local/lib/python3.4/dist-packages/ipykernel/__main__.py:27: DeprecationWarning: using a boolean instead of an integer will result in an error in the future\n"
     ]
    }
   ],
   "source": [
    "from drafterANN import *\n",
    "import pickle\n",
    "\n",
    "with open('data/league_matches.pickle','rb') as f:\n",
    "     matches_bulk = pickle.load(f)\n",
    "print(len(matches_bulk))\n",
    "\n",
    "drafter = DotoAnn()\n",
    "samples = []\n",
    "\n",
    "def check_accuracy_for_guess(guess):\n",
    "    ys = []\n",
    "    for x in guess:\n",
    "        avg_certainty = 0\n",
    "        correct_preds = 0\n",
    "        \n",
    "        batch_xs = np.zeros((len(matches_bulk), n_input), np.int)\n",
    "        batch_ys = np.zeros((len(matches_bulk), n_out), np.int)\n",
    "        for i,m in enumerate(matches_bulk):\n",
    "            xs = np.zeros((1, n_input), np.int)\n",
    "            for h in m['radiant_heroes'].split(\",\"):\n",
    "                xs[0][int(h)] = 1\n",
    "            for h in m['dire_heroes'].split(\",\"):\n",
    "                xs[0][int(h) + max_heroes] = 1\n",
    "            batch_xs[i] = xs\n",
    "            outs = np.zeros((1, n_out), np.int)\n",
    "            outs[0][not m['radiant_win']] = 1\n",
    "            batch_ys[i] = outs\n",
    "        out = drafter.run(batch_xs, 7500)\n",
    "        \n",
    "        i2=0\n",
    "        for i, m in enumerate(out):\n",
    "            certainty = abs(m[0] - 0.5)\n",
    "            if (certainty > x - 0.5):\n",
    "                avg_certainty += certainty\n",
    "                correct_preds += np.argmax(m) == np.argmax(batch_ys[i])\n",
    "                i2+=1\n",
    "        #print(\"Certainty > \", x)\n",
    "        #print(\"Sample\", i2)\n",
    "        samples.append(i2)\n",
    "        if i2 > 0:\n",
    "            #print(\"Accuracy\", correct_preds/i2)\n",
    "            #print(\"Avg Certainty\", avg_certainty/i2 + 0.5)\n",
    "            ys.append(correct_preds/i2)\n",
    "        else:\n",
    "            ys.append(1)\n",
    "    return ys\n",
    "\n",
    "x = np.linspace(0.5, 0.9, num=30)\n",
    "y = check_accuracy_for_guess(x)"
   ]
  },
  {
   "cell_type": "code",
   "execution_count": 55,
   "metadata": {
    "collapsed": false
   },
   "outputs": [
    {
     "data": {
      "text/plain": [
       "[<matplotlib.lines.Line2D at 0x7f4953f24cc0>]"
      ]
     },
     "execution_count": 55,
     "metadata": {},
     "output_type": "execute_result"
    },
    {
     "data": {
      "image/png": "[encoded data removed]",
      "text/plain": [
       "<matplotlib.figure.Figure at 0x7f49545cfda0>"
      ]
     },
     "metadata": {},
     "output_type": "display_data"
    },
    {
     "data": {
      "image/png": "[encoded data removed]",
      "text/plain": [
       "<matplotlib.figure.Figure at 0x7f495435da58>"
      ]
     },
     "metadata": {},
     "output_type": "display_data"
    }
   ],
   "source": [
    "import matplotlib.pyplot as plt\n",
    "%matplotlib inline\n",
    "\n",
    "fig = plt.figure()\n",
    "fig.suptitle('TI6 Matches', fontsize=20)\n",
    "plt.xlabel('Certainty', fontsize=18)\n",
    "plt.ylabel('Accuracy', fontsize=16)\n",
    "plt.plot(x,y)\n",
    "\n",
    "fig = plt.figure()\n",
    "fig.suptitle('TI6 Matches', fontsize=20)\n",
    "plt.xlabel('Certainty', fontsize=18)\n",
    "plt.ylabel('Sample Size', fontsize=16)\n",
    "plt.plot(x,samples)"
   ]
  },
  {
   "cell_type": "code",
   "execution_count": null,
   "metadata": {
    "collapsed": true
   },
   "outputs": [],
   "source": []
  }
 ],
 "metadata": {
  "kernelspec": {
   "display_name": "Python 3",
   "language": "python",
   "name": "python3"
  },
  "language_info": {
   "codemirror_mode": {
    "name": "ipython",
    "version": 3
   },
   "file_extension": ".py",
   "mimetype": "text/x-python",
   "name": "python",
   "nbconvert_exporter": "python",
   "pygments_lexer": "ipython3",
   "version": "3.4.3"
  }
 },
 "nbformat": 4,
 "nbformat_minor": 0
}
