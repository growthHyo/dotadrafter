{
 "cells": [
  {
   "cell_type": "code",
   "execution_count": 1,
   "metadata": {
    "collapsed": false
   },
   "outputs": [
    {
     "name": "stdout",
     "output_type": "stream",
     "text": [
      "2265714024\n",
      "2217239\n"
     ]
    }
   ],
   "source": [
    "from drafterANN import *\n",
    "\n",
    "for m in Match.select().order_by(Match.seq_num.desc()).limit(1):\n",
    "    print(m.seq_num)\n",
    "    \n",
    "print(Match.select().count())"
   ]
  },
  {
   "cell_type": "code",
   "execution_count": 2,
   "metadata": {
    "collapsed": false
   },
   "outputs": [
    {
     "name": "stdout",
     "output_type": "stream",
     "text": [
      "100\n",
      "http://www.opendota.com/matches/2209656065\n",
      "High\n",
      "http://www.opendota.com/matches/2209702147\n",
      "High\n",
      "http://www.opendota.com/matches/2209719304\n",
      "Normal\n",
      "http://www.opendota.com/matches/2209686542\n",
      "Normal\n",
      "http://www.opendota.com/matches/2209701903\n",
      "Very High\n",
      "http://www.opendota.com/matches/2209702929\n",
      "N/A\n",
      "http://www.opendota.com/matches/2209680661\n",
      "Normal\n",
      "http://www.opendota.com/matches/2209691087\n",
      "Normal\n",
      "http://www.opendota.com/matches/2209686048\n",
      "Normal\n",
      "http://www.opendota.com/matches/2209690660\n",
      "Normal\n",
      "http://www.opendota.com/matches/2209683493\n",
      "N/A\n",
      "http://www.opendota.com/matches/2209682214\n",
      "High\n",
      "http://www.opendota.com/matches/2209677095\n",
      "N/A\n",
      "http://www.opendota.com/matches/2209694044\n",
      "High\n",
      "http://www.opendota.com/matches/2209696559\n",
      "Very High\n",
      "http://www.opendota.com/matches/2209680434\n",
      "Normal\n",
      "http://www.opendota.com/matches/2209738718\n",
      "Normal\n",
      "http://www.opendota.com/matches/2209707574\n",
      "Normal\n",
      "http://www.opendota.com/matches/2209707405\n",
      "High\n",
      "http://www.opendota.com/matches/2209692729\n",
      "Very High\n",
      "http://www.opendota.com/matches/2209692735\n",
      "N/A\n",
      "http://www.opendota.com/matches/2209643072\n",
      "Normal\n",
      "http://www.opendota.com/matches/2209643074\n",
      "N/A\n",
      "http://www.opendota.com/matches/2209666117\n",
      "Normal\n",
      "http://www.opendota.com/matches/2209653062\n",
      "N/A\n",
      "http://www.opendota.com/matches/2209639240\n",
      "N/A\n",
      "http://www.opendota.com/matches/2209706827\n",
      "Normal\n",
      "http://www.opendota.com/matches/2209680610\n",
      "Normal\n",
      "http://www.opendota.com/matches/2209694031\n",
      "High\n",
      "http://www.opendota.com/matches/2209696596\n",
      "Normal\n",
      "http://www.opendota.com/matches/2209664886\n",
      "N/A\n",
      "http://www.opendota.com/matches/2209715286\n",
      "Normal\n",
      "http://www.opendota.com/matches/2209710680\n",
      "Normal\n",
      "http://www.opendota.com/matches/2209670492\n",
      "Normal\n",
      "http://www.opendota.com/matches/2209677756\n",
      "Normal\n",
      "http://www.opendota.com/matches/2209706858\n",
      "Normal\n",
      "http://www.opendota.com/matches/2209728363\n",
      "Normal\n",
      "http://www.opendota.com/matches/2209703022\n",
      "N/A\n",
      "http://www.opendota.com/matches/2209681526\n",
      "Normal\n",
      "http://www.opendota.com/matches/2209655418\n",
      "N/A\n",
      "http://www.opendota.com/matches/2209717055\n",
      "Normal\n",
      "http://www.opendota.com/matches/2209713770\n",
      "Normal\n",
      "http://www.opendota.com/matches/2209678463\n",
      "N/A\n",
      "http://www.opendota.com/matches/2209685994\n",
      "N/A\n",
      "http://www.opendota.com/matches/2209676423\n",
      "N/A\n",
      "http://www.opendota.com/matches/2209711497\n",
      "Normal\n",
      "http://www.opendota.com/matches/2209710219\n",
      "Normal\n",
      "http://www.opendota.com/matches/2209697164\n",
      "Normal\n",
      "http://www.opendota.com/matches/2209672077\n",
      "N/A\n",
      "http://www.opendota.com/matches/2209703566\n",
      "Normal\n",
      "http://www.opendota.com/matches/2209707151\n",
      "Normal\n",
      "http://www.opendota.com/matches/2209694872\n",
      "Normal\n",
      "http://www.opendota.com/matches/2209692052\n",
      "Normal\n",
      "http://www.opendota.com/matches/2209714070\n",
      "Normal\n",
      "http://www.opendota.com/matches/2209715095\n",
      "Very High\n",
      "http://www.opendota.com/matches/2209669016\n",
      "N/A\n",
      "http://www.opendota.com/matches/2209710236\n",
      "Very High\n",
      "http://www.opendota.com/matches/2209696926\n",
      "Normal\n",
      "http://www.opendota.com/matches/2209659807\n",
      "N/A\n",
      "http://www.opendota.com/matches/2209703856\n",
      "Very High\n",
      "http://www.opendota.com/matches/2209687496\n",
      "Normal\n",
      "http://www.opendota.com/matches/2209713330\n",
      "Normal\n",
      "http://www.opendota.com/matches/2209740980\n",
      "Normal\n",
      "http://www.opendota.com/matches/2209680823\n",
      "Normal\n",
      "http://www.opendota.com/matches/2209742264\n",
      "N/A\n",
      "http://www.opendota.com/matches/2209690044\n",
      "Normal\n",
      "http://www.opendota.com/matches/2209660862\n",
      "Normal\n",
      "http://www.opendota.com/matches/2209687231\n",
      "High\n",
      "http://www.opendota.com/matches/2209773643\n",
      "Normal\n",
      "http://www.opendota.com/matches/2209722998\n",
      "Very High\n",
      "http://www.opendota.com/matches/2209683654\n",
      "High\n",
      "http://www.opendota.com/matches/2209724616\n",
      "Normal\n",
      "http://www.opendota.com/matches/2209715401\n",
      "Normal\n",
      "http://www.opendota.com/matches/2209664458\n",
      "N/A\n",
      "http://www.opendota.com/matches/2209686987\n",
      "N/A\n",
      "http://www.opendota.com/matches/2209729229\n",
      "N/A\n",
      "http://www.opendota.com/matches/2209709774\n",
      "Normal\n",
      "http://www.opendota.com/matches/2209701839\n",
      "Normal\n",
      "http://www.opendota.com/matches/2209707512\n",
      "Normal\n",
      "http://www.opendota.com/matches/2209726420\n",
      "High\n",
      "http://www.opendota.com/matches/2209737433\n",
      "Very High\n",
      "http://www.opendota.com/matches/2209681626\n",
      "Normal\n",
      "http://www.opendota.com/matches/2209657807\n",
      "N/A\n",
      "http://www.opendota.com/matches/2209708252\n",
      "Normal\n",
      "http://www.opendota.com/matches/2209693150\n",
      "N/A\n",
      "http://www.opendota.com/matches/2209751010\n",
      "Normal\n",
      "http://www.opendota.com/matches/2209659108\n",
      "N/A\n",
      "http://www.opendota.com/matches/2209743910\n",
      "Very High\n",
      "http://www.opendota.com/matches/2209690342\n",
      "Normal\n",
      "http://www.opendota.com/matches/2209726697\n",
      "Normal\n",
      "http://www.opendota.com/matches/2209674986\n",
      "High\n",
      "http://www.opendota.com/matches/2209633828\n",
      "N/A\n",
      "http://www.opendota.com/matches/2209714673\n",
      "Normal\n",
      "http://www.opendota.com/matches/2209640181\n",
      "N/A\n",
      "http://www.opendota.com/matches/2209670344\n",
      "Normal\n",
      "http://www.opendota.com/matches/2209687849\n",
      "N/A\n",
      "http://www.opendota.com/matches/2209678584\n",
      "Normal\n",
      "http://www.opendota.com/matches/2209702650\n",
      "Normal\n",
      "http://www.opendota.com/matches/2209671166\n",
      "Very High\n",
      "http://www.opendota.com/matches/2209704959\n",
      "Very High\n"
     ]
    }
   ],
   "source": [
    "from dota_api import Dota_API\n",
    "import time\n",
    "\n",
    "api = Dota_API()\n",
    "\n",
    "next_id = 1938623858\n",
    "\n",
    "req = api.matches_get(n_id=next_id)\n",
    "\n",
    "#while True:\n",
    "for i in range(1):    \n",
    "    matches = api.matches_result(req)\n",
    "    next_id = matches[-1]['match_seq_num'] + 1\n",
    "    req = api.matches_get(n_id=next_id)\n",
    "    print(len(matches))\n",
    "    reqs_dict = dict()\n",
    "    matches_dict = dict()\n",
    "    \n",
    "    for match in matches:\n",
    "        m_id = match['match_id']\n",
    "        reqs_dict[m_id] = api.matches_get(6, m_id)\n",
    "        matches_dict[m_id] = match\n",
    "    for m_id, req2 in reqs_dict.items():\n",
    "        print(req2['url'])\n",
    "        html = api.matches_result(req2)\n",
    "        print(html)\n",
    "    "
   ]
  },
  {
   "cell_type": "code",
   "execution_count": 2,
   "metadata": {
    "collapsed": false
   },
   "outputs": [
    {
     "name": "stdout",
     "output_type": "stream",
     "text": [
      "2265510130\n"
     ]
    }
   ],
   "source": [
    "from drafterANN import *\n",
    "\n",
    "for m in Match.select().order_by(Match.seq_num.desc()).limit(1).offset(4000):\n",
    "    print(m.seq_num)"
   ]
  },
  {
   "cell_type": "code",
   "execution_count": 3,
   "metadata": {
    "collapsed": false
   },
   "outputs": [
    {
     "data": {
      "text/plain": [
       "2213247"
      ]
     },
     "execution_count": 3,
     "metadata": {},
     "output_type": "execute_result"
    }
   ],
   "source": [
    "Match.delete().where(Match.seq_num < 2265510130).execute()"
   ]
  },
  {
   "cell_type": "code",
   "execution_count": null,
   "metadata": {
    "collapsed": false
   },
   "outputs": [
    {
     "name": "stdout",
     "output_type": "stream",
     "text": [
      "I tensorflow/core/common_runtime/local_device.cc:40] Local device intra op parallelism threads: 4\n",
      "I tensorflow/core/common_runtime/direct_session.cc:58] Direct session inter op parallelism threads: 4\n",
      "Errors:  0\n",
      "Matches:  0\n",
      "21:27:12: None\n",
      "Wisp: [[ 0.3617211  0.6382789]]\n",
      "vs Wisp: [[ 0.52560222  0.47439778]]\n",
      "\n"
     ]
    }
   ],
   "source": [
    "!python3 doto_dl_linux.py"
   ]
  },
  {
   "cell_type": "code",
   "execution_count": null,
   "metadata": {
    "collapsed": true
   },
   "outputs": [],
   "source": []
  }
 ],
 "metadata": {
  "kernelspec": {
   "display_name": "Python 3",
   "language": "python",
   "name": "python3"
  },
  "language_info": {
   "codemirror_mode": {
    "name": "ipython",
    "version": 3
   },
   "file_extension": ".py",
   "mimetype": "text/x-python",
   "name": "python",
   "nbconvert_exporter": "python",
   "pygments_lexer": "ipython3",
   "version": "3.4.3"
  }
 },
 "nbformat": 4,
 "nbformat_minor": 0
}
