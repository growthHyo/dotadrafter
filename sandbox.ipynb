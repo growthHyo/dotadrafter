{
 "cells": [
  {
   "cell_type": "code",
   "execution_count": 1,
   "metadata": {
    "collapsed": false
   },
   "outputs": [
    {
     "name": "stdout",
     "output_type": "stream",
     "text": [
      "2490143032\n",
      "2420376\n"
     ]
    }
   ],
   "source": [
    "from drafterANN import *\n",
    "\n",
    "for m in Match.select().order_by(Match.seq_num.desc()).limit(1):\n",
    "    print(m.seq_num)\n",
    "    \n",
    "print(Match.select().count())"
   ]
  },
  {
   "cell_type": "code",
   "execution_count": 9,
   "metadata": {
    "collapsed": false
   },
   "outputs": [
    {
     "name": "stdout",
     "output_type": "stream",
     "text": [
      "100\n",
      "http://www.dotabuff.com/matches/2209656065\n",
      "2\n",
      "http://www.dotabuff.com/matches/2209702147\n",
      "2\n",
      "http://www.dotabuff.com/matches/2209719304\n",
      "1\n",
      "http://www.dotabuff.com/matches/2209686542\n",
      "1\n",
      "http://www.dotabuff.com/matches/2209701903\n",
      "Very High\n",
      "http://www.dotabuff.com/matches/2209702929\n",
      "None\n",
      "http://www.dotabuff.com/matches/2209680661\n",
      "1\n",
      "http://www.dotabuff.com/matches/2209691087\n",
      "1\n",
      "http://www.dotabuff.com/matches/2209686048\n",
      "1\n",
      "http://www.dotabuff.com/matches/2209690660\n",
      "1\n",
      "http://www.dotabuff.com/matches/2209683493\n",
      "None\n",
      "http://www.dotabuff.com/matches/2209682214\n",
      "2\n",
      "http://www.dotabuff.com/matches/2209677095\n",
      "None\n",
      "http://www.dotabuff.com/matches/2209694044\n",
      "2\n",
      "http://www.dotabuff.com/matches/2209696559\n",
      "Very High\n",
      "http://www.dotabuff.com/matches/2209680434\n"
     ]
    },
    {
     "ename": "KeyboardInterrupt",
     "evalue": "",
     "output_type": "error",
     "traceback": [
      "\u001b[1;31m---------------------------------------------------------------------------\u001b[0m",
      "\u001b[1;31mKeyboardInterrupt\u001b[0m                         Traceback (most recent call last)",
      "\u001b[1;32m<ipython-input-9-e0ca9eb14fb2>\u001b[0m in \u001b[0;36m<module>\u001b[1;34m()\u001b[0m\n\u001b[0;32m     23\u001b[0m     \u001b[1;32mfor\u001b[0m \u001b[0mm_id\u001b[0m\u001b[1;33m,\u001b[0m \u001b[0mreq2\u001b[0m \u001b[1;32min\u001b[0m \u001b[0mreqs_dict\u001b[0m\u001b[1;33m.\u001b[0m\u001b[0mitems\u001b[0m\u001b[1;33m(\u001b[0m\u001b[1;33m)\u001b[0m\u001b[1;33m:\u001b[0m\u001b[1;33m\u001b[0m\u001b[0m\n\u001b[0;32m     24\u001b[0m         \u001b[0mprint\u001b[0m\u001b[1;33m(\u001b[0m\u001b[0mreq2\u001b[0m\u001b[1;33m[\u001b[0m\u001b[1;34m'url'\u001b[0m\u001b[1;33m]\u001b[0m\u001b[1;33m)\u001b[0m\u001b[1;33m\u001b[0m\u001b[0m\n\u001b[1;32m---> 25\u001b[1;33m         \u001b[0mhtml\u001b[0m \u001b[1;33m=\u001b[0m \u001b[0mapi\u001b[0m\u001b[1;33m.\u001b[0m\u001b[0mmatches_result\u001b[0m\u001b[1;33m(\u001b[0m\u001b[0mreq2\u001b[0m\u001b[1;33m)\u001b[0m\u001b[1;33m\u001b[0m\u001b[0m\n\u001b[0m\u001b[0;32m     26\u001b[0m         \u001b[0mprint\u001b[0m\u001b[1;33m(\u001b[0m\u001b[0mhtml\u001b[0m\u001b[1;33m)\u001b[0m\u001b[1;33m\u001b[0m\u001b[0m\n\u001b[0;32m     27\u001b[0m \u001b[1;33m\u001b[0m\u001b[0m\n",
      "\u001b[1;32m/root/drafter/dota_api.py\u001b[0m in \u001b[0;36mmatches_result\u001b[1;34m(self, request)\u001b[0m\n\u001b[0;32m     63\u001b[0m             \u001b[0mself\u001b[0m\u001b[1;33m.\u001b[0m\u001b[0mip_num\u001b[0m \u001b[1;33m=\u001b[0m \u001b[1;33m(\u001b[0m\u001b[0mrequest\u001b[0m\u001b[1;33m[\u001b[0m\u001b[1;34m'ip_num'\u001b[0m\u001b[1;33m]\u001b[0m\u001b[1;33m+\u001b[0m\u001b[1;36m1\u001b[0m\u001b[1;33m)\u001b[0m \u001b[1;33m%\u001b[0m \u001b[0mlen\u001b[0m\u001b[1;33m(\u001b[0m\u001b[0mself\u001b[0m\u001b[1;33m.\u001b[0m\u001b[0mips\u001b[0m\u001b[1;33m)\u001b[0m\u001b[1;33m\u001b[0m\u001b[0m\n\u001b[0;32m     64\u001b[0m             \u001b[0mself\u001b[0m\u001b[1;33m.\u001b[0m\u001b[0msession\u001b[0m\u001b[1;33m.\u001b[0m\u001b[0mmount\u001b[0m\u001b[1;33m(\u001b[0m\u001b[1;34m'http://'\u001b[0m\u001b[1;33m,\u001b[0m \u001b[0msource\u001b[0m\u001b[1;33m.\u001b[0m\u001b[0mSourceAddressAdapter\u001b[0m\u001b[1;33m(\u001b[0m\u001b[0mself\u001b[0m\u001b[1;33m.\u001b[0m\u001b[0mips\u001b[0m\u001b[1;33m[\u001b[0m\u001b[0mself\u001b[0m\u001b[1;33m.\u001b[0m\u001b[0mip_num\u001b[0m\u001b[1;33m]\u001b[0m\u001b[1;33m)\u001b[0m\u001b[1;33m)\u001b[0m\u001b[1;33m\u001b[0m\u001b[0m\n\u001b[1;32m---> 65\u001b[1;33m             \u001b[1;32mreturn\u001b[0m \u001b[0mself\u001b[0m\u001b[1;33m.\u001b[0m\u001b[0mretry_request\u001b[0m\u001b[1;33m(\u001b[0m\u001b[0mrequest\u001b[0m\u001b[1;33m,\u001b[0m \u001b[0msleep\u001b[0m\u001b[1;33m=\u001b[0m\u001b[1;36m1\u001b[0m\u001b[1;33m)\u001b[0m\u001b[1;33m\u001b[0m\u001b[0m\n\u001b[0m\u001b[0;32m     66\u001b[0m         \u001b[1;32mif\u001b[0m \u001b[0mrequest\u001b[0m\u001b[1;33m[\u001b[0m\u001b[1;34m'req_type'\u001b[0m\u001b[1;33m]\u001b[0m\u001b[1;33m==\u001b[0m\u001b[1;36m4\u001b[0m\u001b[1;33m:\u001b[0m\u001b[1;33m\u001b[0m\u001b[0m\n\u001b[0;32m     67\u001b[0m             \u001b[1;32mreturn\u001b[0m \u001b[0mself\u001b[0m\u001b[1;33m.\u001b[0m\u001b[0mparse_skill\u001b[0m\u001b[1;33m(\u001b[0m\u001b[0mres\u001b[0m\u001b[1;33m)\u001b[0m\u001b[1;33m\u001b[0m\u001b[0m\n",
      "\u001b[1;32m/root/drafter/dota_api.py\u001b[0m in \u001b[0;36mretry_request\u001b[1;34m(self, request, sleep)\u001b[0m\n\u001b[0;32m     88\u001b[0m         \u001b[1;31m#print(request)\u001b[0m\u001b[1;33m\u001b[0m\u001b[1;33m\u001b[0m\u001b[0m\n\u001b[0;32m     89\u001b[0m         \u001b[0mself\u001b[0m\u001b[1;33m.\u001b[0m\u001b[0merrors\u001b[0m \u001b[1;33m+=\u001b[0m \u001b[1;36m1\u001b[0m\u001b[1;33m\u001b[0m\u001b[0m\n\u001b[1;32m---> 90\u001b[1;33m         \u001b[0mtime\u001b[0m\u001b[1;33m.\u001b[0m\u001b[0msleep\u001b[0m\u001b[1;33m(\u001b[0m\u001b[0msleep\u001b[0m\u001b[1;33m)\u001b[0m\u001b[1;33m\u001b[0m\u001b[0m\n\u001b[0m\u001b[0;32m     91\u001b[0m         \u001b[1;32mreturn\u001b[0m \u001b[0mself\u001b[0m\u001b[1;33m.\u001b[0m\u001b[0mmatches_result\u001b[0m\u001b[1;33m(\u001b[0m\u001b[0mself\u001b[0m\u001b[1;33m.\u001b[0m\u001b[0mmatches_get\u001b[0m\u001b[1;33m(\u001b[0m\u001b[1;33m**\u001b[0m\u001b[0mrequest\u001b[0m\u001b[1;33m)\u001b[0m\u001b[1;33m)\u001b[0m\u001b[1;33m\u001b[0m\u001b[0m\n\u001b[0;32m     92\u001b[0m \u001b[1;33m\u001b[0m\u001b[0m\n",
      "\u001b[1;31mKeyboardInterrupt\u001b[0m: "
     ]
    }
   ],
   "source": [
    "from dota_api import Dota_API\n",
    "import time\n",
    "\n",
    "api = Dota_API()\n",
    "\n",
    "next_id = 1938623858\n",
    "\n",
    "req = api.matches_get(n_id=next_id)\n",
    "\n",
    "#while True:\n",
    "for i in range(1):    \n",
    "    matches = api.matches_result(req)\n",
    "    next_id = matches[-1]['match_seq_num'] + 1\n",
    "    req = api.matches_get(n_id=next_id)\n",
    "    print(len(matches))\n",
    "    reqs_dict = dict()\n",
    "    matches_dict = dict()\n",
    "    \n",
    "    for match in matches:\n",
    "        m_id = match['match_id']\n",
    "        reqs_dict[m_id] = api.matches_get(4, m_id)\n",
    "        matches_dict[m_id] = match\n",
    "    for m_id, req2 in reqs_dict.items():\n",
    "        print(req2['url'])\n",
    "        html = api.matches_result(req2)\n",
    "        print(html)\n",
    "    "
   ]
  },
  {
   "cell_type": "code",
   "execution_count": 8,
   "metadata": {
    "collapsed": false
   },
   "outputs": [
    {
     "name": "stdout",
     "output_type": "stream",
     "text": [
      "100\n",
      "{'positive_votes': 0, 'leagueid': 0, 'duration': 3467, 'radiant_captain': 191041366, 'flags': 0, 'barracks_status_radiant': 0, 'negative_votes': 0, 'lobby_type': 7, 'match_id': 2209639240, 'radiant_win': False, 'tower_status_radiant': 0, 'start_time': 1457523537, 'pre_game_duration': 0, 'radiant_score': 0, 'game_mode': 2, 'human_players': 10, 'picks_bans': [{'order': 0, 'hero_id': 75, 'team': 1, 'is_pick': False}, {'order': 1, 'hero_id': 57, 'team': 0, 'is_pick': False}, {'order': 2, 'hero_id': 70, 'team': 1, 'is_pick': False}, {'order': 3, 'hero_id': 76, 'team': 0, 'is_pick': False}, {'order': 4, 'hero_id': 31, 'team': 1, 'is_pick': True}, {'order': 5, 'hero_id': 27, 'team': 0, 'is_pick': True}, {'order': 6, 'hero_id': 30, 'team': 0, 'is_pick': True}, {'order': 7, 'hero_id': 97, 'team': 1, 'is_pick': True}, {'order': 8, 'hero_id': 12, 'team': 1, 'is_pick': False}, {'order': 9, 'hero_id': 33, 'team': 0, 'is_pick': False}, {'order': 10, 'hero_id': 42, 'team': 1, 'is_pick': False}, {'order': 11, 'hero_id': 1, 'team': 0, 'is_pick': False}, {'order': 12, 'hero_id': 74, 'team': 0, 'is_pick': True}, {'order': 13, 'hero_id': 67, 'team': 1, 'is_pick': True}, {'order': 14, 'hero_id': 71, 'team': 0, 'is_pick': True}, {'order': 15, 'hero_id': 94, 'team': 1, 'is_pick': True}, {'order': 16, 'hero_id': 39, 'team': 0, 'is_pick': False}, {'order': 17, 'hero_id': 99, 'team': 1, 'is_pick': False}, {'order': 18, 'hero_id': 53, 'team': 0, 'is_pick': True}, {'order': 19, 'hero_id': 34, 'team': 1, 'is_pick': True}], 'match_seq_num': 1938623915, 'engine': 1, 'players': [{'hero_healing': 5927, 'scaled_hero_healing': 0, 'item_3': 108, 'backpack_0': 0, 'hero_id': 30, 'gold_spent': 10925, 'level': 18, 'gold': 34, 'account_id': 4294967295, 'item_0': 43, 'scaled_tower_damage': 0, 'item_2': 180, 'deaths': 12, 'item_5': 0, 'player_slot': 0, 'last_hits': 44, 'backpack_1': 0, 'scaled_hero_damage': 0, 'denies': 0, 'assists': 11, 'item_1': 0, 'tower_damage': 6, 'leaver_status': 0, 'xp_per_min': 303, 'backpack_2': 0, 'gold_per_min': 238, 'item_4': 24, 'kills': 5, 'ability_upgrades': [{'ability': 5138, 'time': 682, 'level': 1}, {'ability': 5139, 'time': 837, 'level': 2}, {'ability': 5138, 'time': 907, 'level': 3}, {'ability': 5140, 'time': 1002, 'level': 4}, {'ability': 5138, 'time': 1245, 'level': 5}, {'ability': 5141, 'time': 1650, 'level': 6}, {'ability': 5138, 'time': 1716, 'level': 7}, {'ability': 5139, 'time': 1801, 'level': 8}, {'ability': 5139, 'time': 2062, 'level': 9}, {'ability': 5141, 'time': 2269, 'level': 10}, {'ability': 5140, 'time': 2271, 'level': 11}, {'ability': 5140, 'time': 2549, 'level': 12}, {'ability': 5140, 'time': 2974, 'level': 13}, {'ability': 5139, 'time': 3168, 'level': 14}, {'ability': 5002, 'time': 3280, 'level': 15}, {'ability': 5141, 'time': 3447, 'level': 16}, {'ability': 5002, 'time': 3556, 'level': 17}, {'ability': 5002, 'time': 4011, 'level': 18}], 'hero_damage': 9854}, {'hero_healing': 0, 'scaled_hero_healing': 0, 'item_3': 108, 'backpack_0': 0, 'hero_id': 71, 'gold_spent': 12995, 'level': 20, 'gold': 510, 'account_id': 4294967295, 'item_0': 63, 'scaled_tower_damage': 0, 'item_2': 152, 'deaths': 16, 'item_5': 9, 'player_slot': 1, 'last_hits': 113, 'backpack_1': 0, 'scaled_hero_damage': 0, 'denies': 0, 'assists': 9, 'item_1': 151, 'tower_damage': 24, 'leaver_status': 0, 'xp_per_min': 375, 'backpack_2': 0, 'gold_per_min': 301, 'item_4': 4, 'kills': 7, 'ability_upgrades': [{'ability': 5353, 'time': 661, 'level': 1}, {'ability': 5355, 'time': 809, 'level': 2}, {'ability': 5354, 'time': 970, 'level': 3}, {'ability': 5355, 'time': 1071, 'level': 4}, {'ability': 5353, 'time': 1262, 'level': 5}, {'ability': 5356, 'time': 1602, 'level': 6}, {'ability': 5354, 'time': 1641, 'level': 7}, {'ability': 5353, 'time': 1732, 'level': 8}, {'ability': 5354, 'time': 2022, 'level': 9}, {'ability': 5355, 'time': 2227, 'level': 10}, {'ability': 5356, 'time': 2393, 'level': 11}, {'ability': 5355, 'time': 2631, 'level': 12}, {'ability': 5353, 'time': 2859, 'level': 13}, {'ability': 5354, 'time': 2976, 'level': 14}, {'ability': 5002, 'time': 3039, 'level': 15}, {'ability': 5356, 'time': 3267, 'level': 16}, {'ability': 5002, 'time': 3285, 'level': 17}, {'ability': 5002, 'time': 3457, 'level': 18}, {'ability': 5002, 'time': 3757, 'level': 19}, {'ability': 5002, 'time': 3758, 'level': 20}], 'hero_damage': 12034}, {'hero_healing': 0, 'scaled_hero_healing': 0, 'item_3': 60, 'backpack_0': 0, 'hero_id': 27, 'gold_spent': 8540, 'level': 17, 'gold': 211, 'account_id': 4294967295, 'item_0': 180, 'scaled_tower_damage': 0, 'item_2': 46, 'deaths': 17, 'item_5': 0, 'player_slot': 2, 'last_hits': 103, 'backpack_1': 0, 'scaled_hero_damage': 0, 'denies': 6, 'assists': 5, 'item_1': 1, 'tower_damage': 2162, 'leaver_status': 0, 'xp_per_min': 278, 'backpack_2': 0, 'gold_per_min': 227, 'item_4': 0, 'kills': 0, 'ability_upgrades': [{'ability': 5080, 'time': 655, 'level': 1}, {'ability': 5078, 'time': 838, 'level': 2}, {'ability': 5079, 'time': 900, 'level': 3}, {'ability': 5080, 'time': 969, 'level': 4}, {'ability': 5079, 'time': 1122, 'level': 5}, {'ability': 5081, 'time': 1286, 'level': 6}, {'ability': 5080, 'time': 1507, 'level': 7}, {'ability': 5080, 'time': 1598, 'level': 8}, {'ability': 5079, 'time': 1984, 'level': 9}, {'ability': 5079, 'time': 2148, 'level': 10}, {'ability': 5081, 'time': 2256, 'level': 11}, {'ability': 5078, 'time': 2613, 'level': 12}, {'ability': 5078, 'time': 2908, 'level': 13}, {'ability': 5078, 'time': 3082, 'level': 14}, {'ability': 5002, 'time': 3416, 'level': 15}, {'ability': 5081, 'time': 3718, 'level': 16}, {'ability': 5002, 'time': 4027, 'level': 17}], 'hero_damage': 3384}, {'hero_healing': 0, 'scaled_hero_healing': 0, 'item_3': 108, 'backpack_0': 0, 'hero_id': 53, 'gold_spent': 22520, 'level': 20, 'gold': 3295, 'account_id': 4294967295, 'item_0': 65, 'scaled_tower_damage': 0, 'item_2': 98, 'deaths': 11, 'item_5': 48, 'player_slot': 3, 'last_hits': 419, 'backpack_1': 0, 'scaled_hero_damage': 0, 'denies': 7, 'assists': 10, 'item_1': 141, 'tower_damage': 3073, 'leaver_status': 0, 'xp_per_min': 372, 'backpack_2': 0, 'gold_per_min': 524, 'item_4': 168, 'kills': 2, 'ability_upgrades': [{'ability': 5246, 'time': 685, 'level': 1}, {'ability': 5245, 'time': 814, 'level': 2}, {'ability': 5247, 'time': 909, 'level': 3}, {'ability': 5247, 'time': 992, 'level': 4}, {'ability': 5247, 'time': 1163, 'level': 5}, {'ability': 5248, 'time': 1303, 'level': 6}, {'ability': 5247, 'time': 1409, 'level': 7}, {'ability': 5246, 'time': 1535, 'level': 8}, {'ability': 5246, 'time': 1666, 'level': 9}, {'ability': 5246, 'time': 1822, 'level': 10}, {'ability': 5248, 'time': 1875, 'level': 11}, {'ability': 5245, 'time': 2131, 'level': 12}, {'ability': 5245, 'time': 2234, 'level': 13}, {'ability': 5245, 'time': 2561, 'level': 14}, {'ability': 5002, 'time': 2704, 'level': 15}, {'ability': 5248, 'time': 2927, 'level': 16}, {'ability': 5002, 'time': 3298, 'level': 17}, {'ability': 5002, 'time': 3391, 'level': 18}, {'ability': 5002, 'time': 3599, 'level': 19}, {'ability': 5002, 'time': 3894, 'level': 20}], 'hero_damage': 12351}, {'hero_healing': 0, 'scaled_hero_healing': 0, 'item_3': 1, 'backpack_0': 0, 'hero_id': 74, 'gold_spent': 25875, 'level': 25, 'gold': 1821, 'account_id': 4294967295, 'item_0': 98, 'scaled_tower_damage': 0, 'item_2': 48, 'deaths': 6, 'item_5': 96, 'player_slot': 4, 'last_hits': 256, 'backpack_1': 0, 'scaled_hero_damage': 0, 'denies': 8, 'assists': 9, 'item_1': 100, 'tower_damage': 1454, 'leaver_status': 0, 'xp_per_min': 560, 'backpack_2': 0, 'gold_per_min': 479, 'item_4': 108, 'kills': 12, 'ability_upgrades': [{'ability': 5372, 'time': 658, 'level': 1}, {'ability': 5370, 'time': 791, 'level': 2}, {'ability': 5370, 'time': 824, 'level': 3}, {'ability': 5372, 'time': 880, 'level': 4}, {'ability': 5372, 'time': 927, 'level': 5}, {'ability': 5370, 'time': 1027, 'level': 6}, {'ability': 5372, 'time': 1094, 'level': 7}, {'ability': 5370, 'time': 1155, 'level': 8}, {'ability': 5371, 'time': 1227, 'level': 9}, {'ability': 5375, 'time': 1339, 'level': 10}, {'ability': 5372, 'time': 1431, 'level': 11}, {'ability': 5375, 'time': 1566, 'level': 12}, {'ability': 5372, 'time': 1664, 'level': 13}, {'ability': 5371, 'time': 1965, 'level': 14}, {'ability': 5372, 'time': 2064, 'level': 15}, {'ability': 5375, 'time': 2245, 'level': 16}, {'ability': 5371, 'time': 2348, 'level': 17}, {'ability': 5371, 'time': 2506, 'level': 18}, {'ability': 5371, 'time': 2555, 'level': 19}, {'ability': 5371, 'time': 2878, 'level': 20}, {'ability': 5370, 'time': 3070, 'level': 21}, {'ability': 5370, 'time': 3288, 'level': 22}, {'ability': 5371, 'time': 3290, 'level': 23}, {'ability': 5370, 'time': 3455, 'level': 24}, {'ability': 5690, 'time': 3924, 'level': 25}], 'hero_damage': 18738}, {'hero_healing': 0, 'scaled_hero_healing': 0, 'item_3': 1, 'backpack_0': 0, 'hero_id': 97, 'gold_spent': 21210, 'level': 23, 'gold': 1161, 'account_id': 4294967295, 'item_0': 145, 'scaled_tower_damage': 0, 'item_2': 180, 'deaths': 7, 'item_5': 63, 'player_slot': 128, 'last_hits': 202, 'backpack_1': 0, 'scaled_hero_damage': 0, 'denies': 0, 'assists': 17, 'item_1': 112, 'tower_damage': 1662, 'leaver_status': 0, 'xp_per_min': 502, 'backpack_2': 0, 'gold_per_min': 405, 'item_4': 141, 'kills': 6, 'ability_upgrades': [{'ability': 5519, 'time': 661, 'level': 1}, {'ability': 5518, 'time': 841, 'level': 2}, {'ability': 5520, 'time': 903, 'level': 3}, {'ability': 5518, 'time': 1032, 'level': 4}, {'ability': 5518, 'time': 1132, 'level': 5}, {'ability': 5521, 'time': 1285, 'level': 6}, {'ability': 5518, 'time': 1357, 'level': 7}, {'ability': 5520, 'time': 1478, 'level': 8}, {'ability': 5520, 'time': 1734, 'level': 9}, {'ability': 5520, 'time': 1822, 'level': 10}, {'ability': 5521, 'time': 1907, 'level': 11}, {'ability': 5519, 'time': 2194, 'level': 12}, {'ability': 5519, 'time': 2357, 'level': 13}, {'ability': 5519, 'time': 2496, 'level': 14}, {'ability': 5002, 'time': 2840, 'level': 15}, {'ability': 5521, 'time': 2879, 'level': 16}, {'ability': 5002, 'time': 3175, 'level': 17}, {'ability': 5002, 'time': 3359, 'level': 18}, {'ability': 5002, 'time': 3451, 'level': 19}, {'ability': 5002, 'time': 3598, 'level': 20}, {'ability': 5002, 'time': 3698, 'level': 21}, {'ability': 5002, 'time': 4013, 'level': 22}, {'ability': 5002, 'time': 4132, 'level': 23}], 'hero_damage': 11301}, {'hero_healing': 0, 'scaled_hero_healing': 0, 'item_3': 125, 'backpack_0': 0, 'hero_id': 67, 'gold_spent': 22425, 'level': 25, 'gold': 6243, 'account_id': 81231451, 'item_0': 48, 'scaled_tower_damage': 0, 'item_2': 196, 'deaths': 6, 'item_5': 212, 'player_slot': 129, 'last_hits': 233, 'backpack_1': 0, 'scaled_hero_damage': 0, 'denies': 1, 'assists': 28, 'item_1': 114, 'tower_damage': 1620, 'leaver_status': 0, 'xp_per_min': 561, 'backpack_2': 0, 'gold_per_min': 487, 'item_4': 137, 'kills': 12, 'ability_upgrades': [{'ability': 5336, 'time': 685, 'level': 1}, {'ability': 5334, 'time': 858, 'level': 2}, {'ability': 5334, 'time': 966, 'level': 3}, {'ability': 5335, 'time': 1082, 'level': 4}, {'ability': 5334, 'time': 1188, 'level': 5}, {'ability': 5337, 'time': 1359, 'level': 6}, {'ability': 5334, 'time': 1478, 'level': 7}, {'ability': 5335, 'time': 1667, 'level': 8}, {'ability': 5335, 'time': 1861, 'level': 9}, {'ability': 5335, 'time': 1899, 'level': 10}, {'ability': 5337, 'time': 2035, 'level': 11}, {'ability': 5336, 'time': 2458, 'level': 12}, {'ability': 5336, 'time': 2595, 'level': 13}, {'ability': 5336, 'time': 2764, 'level': 14}, {'ability': 5002, 'time': 2996, 'level': 15}, {'ability': 5337, 'time': 3197, 'level': 16}, {'ability': 5002, 'time': 3448, 'level': 17}, {'ability': 5002, 'time': 3587, 'level': 18}, {'ability': 5002, 'time': 3652, 'level': 19}, {'ability': 5002, 'time': 3760, 'level': 20}, {'ability': 5002, 'time': 3806, 'level': 21}, {'ability': 5002, 'time': 3874, 'level': 22}, {'ability': 5002, 'time': 3903, 'level': 23}, {'ability': 5002, 'time': 4058, 'level': 24}, {'ability': 5002, 'time': 4118, 'level': 25}], 'hero_damage': 17002}, {'hero_healing': 0, 'scaled_hero_healing': 0, 'item_3': 247, 'backpack_0': 0, 'hero_id': 94, 'gold_spent': 26050, 'level': 25, 'gold': 10153, 'account_id': 111131977, 'item_0': 158, 'scaled_tower_damage': 0, 'item_2': 123, 'deaths': 1, 'item_5': 48, 'player_slot': 130, 'last_hits': 414, 'backpack_1': 0, 'scaled_hero_damage': 0, 'denies': 9, 'assists': 23, 'item_1': 0, 'tower_damage': 6374, 'leaver_status': 0, 'xp_per_min': 561, 'backpack_2': 0, 'gold_per_min': 625, 'item_4': 139, 'kills': 13, 'ability_upgrades': [{'ability': 5505, 'time': 653, 'level': 1}, {'ability': 5506, 'time': 825, 'level': 2}, {'ability': 5505, 'time': 893, 'level': 3}, {'ability': 5506, 'time': 941, 'level': 4}, {'ability': 5505, 'time': 1052, 'level': 5}, {'ability': 5507, 'time': 1201, 'level': 6}, {'ability': 5505, 'time': 1306, 'level': 7}, {'ability': 5506, 'time': 1404, 'level': 8}, {'ability': 5506, 'time': 1594, 'level': 9}, {'ability': 5504, 'time': 1725, 'level': 10}, {'ability': 5507, 'time': 1778, 'level': 11}, {'ability': 5504, 'time': 2100, 'level': 12}, {'ability': 5504, 'time': 2170, 'level': 13}, {'ability': 5504, 'time': 2360, 'level': 14}, {'ability': 5002, 'time': 2360, 'level': 15}, {'ability': 5507, 'time': 2487, 'level': 16}, {'ability': 5002, 'time': 2623, 'level': 17}, {'ability': 5002, 'time': 2857, 'level': 18}, {'ability': 5002, 'time': 2979, 'level': 19}, {'ability': 5002, 'time': 3096, 'level': 20}, {'ability': 5002, 'time': 3359, 'level': 21}, {'ability': 5002, 'time': 3477, 'level': 22}, {'ability': 5002, 'time': 3633, 'level': 23}, {'ability': 5002, 'time': 3687, 'level': 24}, {'ability': 5002, 'time': 4022, 'level': 25}], 'hero_damage': 23714}, {'hero_healing': 2377, 'scaled_hero_healing': 0, 'item_3': 42, 'backpack_0': 0, 'hero_id': 31, 'gold_spent': 15650, 'level': 22, 'gold': 3241, 'account_id': 4294967295, 'item_0': 79, 'scaled_tower_damage': 0, 'item_2': 108, 'deaths': 6, 'item_5': 0, 'player_slot': 131, 'last_hits': 85, 'backpack_1': 0, 'scaled_hero_damage': 0, 'denies': 9, 'assists': 19, 'item_1': 232, 'tower_damage': 766, 'leaver_status': 0, 'xp_per_min': 465, 'backpack_2': 0, 'gold_per_min': 351, 'item_4': 119, 'kills': 9, 'ability_upgrades': [{'ability': 5136, 'time': 651, 'level': 1}, {'ability': 5134, 'time': 829, 'level': 2}, {'ability': 5136, 'time': 897, 'level': 3}, {'ability': 5134, 'time': 984, 'level': 4}, {'ability': 5136, 'time': 1047, 'level': 5}, {'ability': 5137, 'time': 1172, 'level': 6}, {'ability': 5134, 'time': 1231, 'level': 7}, {'ability': 5136, 'time': 1333, 'level': 8}, {'ability': 5134, 'time': 1613, 'level': 9}, {'ability': 5135, 'time': 1733, 'level': 10}, {'ability': 5137, 'time': 1784, 'level': 11}, {'ability': 5135, 'time': 2165, 'level': 12}, {'ability': 5135, 'time': 2250, 'level': 13}, {'ability': 5135, 'time': 2298, 'level': 14}, {'ability': 5002, 'time': 2386, 'level': 15}, {'ability': 5137, 'time': 2496, 'level': 16}, {'ability': 5002, 'time': 2835, 'level': 17}, {'ability': 5002, 'time': 3032, 'level': 18}, {'ability': 5002, 'time': 3341, 'level': 19}, {'ability': 5002, 'time': 3625, 'level': 20}, {'ability': 5002, 'time': 3767, 'level': 21}, {'ability': 5002, 'time': 4099, 'level': 22}], 'hero_damage': 18199}, {'hero_healing': 0, 'scaled_hero_healing': 0, 'item_3': 77, 'backpack_0': 0, 'hero_id': 34, 'gold_spent': 27080, 'level': 25, 'gold': 3003, 'account_id': 4294967295, 'item_0': 249, 'scaled_tower_damage': 0, 'item_2': 123, 'deaths': 6, 'item_5': 220, 'player_slot': 132, 'last_hits': 282, 'backpack_1': 0, 'scaled_hero_damage': 0, 'denies': 1, 'assists': 19, 'item_1': 96, 'tower_damage': 1567, 'leaver_status': 0, 'xp_per_min': 579, 'backpack_2': 0, 'gold_per_min': 522, 'item_4': 121, 'kills': 18, 'ability_upgrades': [{'ability': 5151, 'time': 661, 'level': 1}, {'ability': 5150, 'time': 795, 'level': 2}, {'ability': 5151, 'time': 831, 'level': 3}, {'ability': 5150, 'time': 897, 'level': 4}, {'ability': 5151, 'time': 956, 'level': 5}, {'ability': 5150, 'time': 1066, 'level': 6}, {'ability': 5151, 'time': 1180, 'level': 7}, {'ability': 5150, 'time': 1286, 'level': 8}, {'ability': 5153, 'time': 1447, 'level': 9}, {'ability': 5152, 'time': 1716, 'level': 10}, {'ability': 5152, 'time': 1716, 'level': 11}, {'ability': 5152, 'time': 2047, 'level': 12}, {'ability': 5152, 'time': 2165, 'level': 13}, {'ability': 5153, 'time': 2361, 'level': 14}, {'ability': 5002, 'time': 2490, 'level': 15}, {'ability': 5153, 'time': 2764, 'level': 16}, {'ability': 5002, 'time': 2882, 'level': 17}, {'ability': 5002, 'time': 3026, 'level': 18}, {'ability': 5002, 'time': 3207, 'level': 19}, {'ability': 5002, 'time': 3298, 'level': 20}, {'ability': 5002, 'time': 3466, 'level': 21}, {'ability': 5002, 'time': 3515, 'level': 22}, {'ability': 5002, 'time': 3644, 'level': 23}, {'ability': 5002, 'time': 3876, 'level': 24}, {'ability': 5002, 'time': 3959, 'level': 25}], 'hero_damage': 26988}], 'cluster': 134, 'first_blood_time': 383, 'dire_captain': 306547841, 'tower_status_dire': 1824, 'dire_score': 0, 'barracks_status_dire': 60}\n"
     ]
    }
   ],
   "source": [
    "from dota_api import Dota_API\n",
    "\n",
    "api = Dota_API()\n",
    "\n",
    "next_id = 1938623858\n",
    "\n",
    "req = api.matches_get(n_id=next_id)\n",
    "\n",
    "#while True:\n",
    "for i in range(1):    \n",
    "    matches = api.matches_result(req)\n",
    "    next_id = matches[-1]['match_seq_num'] + 1\n",
    "    req = api.matches_get(n_id=next_id)\n",
    "    print(len(matches))\n",
    "    reqs_dict = dict()\n",
    "    matches_dict = dict()\n",
    "    \n",
    "    for match in matches:\n",
    "        if match['game_mode'] == 2:\n",
    "            print(match)\n",
    "            break"
   ]
  },
  {
   "cell_type": "code",
   "execution_count": 2,
   "metadata": {
    "collapsed": false
   },
   "outputs": [
    {
     "name": "stdout",
     "output_type": "stream",
     "text": [
      "2265510130\n"
     ]
    }
   ],
   "source": [
    "from drafterANN import *\n",
    "\n",
    "for m in Match.select().order_by(Match.seq_num.desc()).limit(1).offset(4000):\n",
    "    print(m.seq_num)"
   ]
  },
  {
   "cell_type": "code",
   "execution_count": 3,
   "metadata": {
    "collapsed": false
   },
   "outputs": [
    {
     "data": {
      "text/plain": [
       "2213247"
      ]
     },
     "execution_count": 3,
     "metadata": {},
     "output_type": "execute_result"
    }
   ],
   "source": [
    "Match.delete().where(Match.seq_num < 2265510130).execute()"
   ]
  },
  {
   "cell_type": "code",
   "execution_count": null,
   "metadata": {
    "collapsed": false
   },
   "outputs": [
    {
     "name": "stdout",
     "output_type": "stream",
     "text": [
      "I tensorflow/core/common_runtime/local_device.cc:40] Local device intra op parallelism threads: 4\n",
      "I tensorflow/core/common_runtime/direct_session.cc:58] Direct session inter op parallelism threads: 4\n",
      "Errors:  0\n",
      "Matches:  0\n",
      "21:27:12: None\n",
      "Wisp: [[ 0.3617211  0.6382789]]\n",
      "vs Wisp: [[ 0.52560222  0.47439778]]\n",
      "\n"
     ]
    }
   ],
   "source": [
    "!python3 doto_dl_linux.py"
   ]
  },
  {
   "cell_type": "code",
   "execution_count": null,
   "metadata": {
    "collapsed": true
   },
   "outputs": [],
   "source": []
  }
 ],
 "metadata": {
  "kernelspec": {
   "display_name": "Python 3",
   "language": "python",
   "name": "python3"
  },
  "language_info": {
   "codemirror_mode": {
    "name": "ipython",
    "version": 3
   },
   "file_extension": ".py",
   "mimetype": "text/x-python",
   "name": "python",
   "nbconvert_exporter": "python",
   "pygments_lexer": "ipython3",
   "version": "3.4.3"
  }
 },
 "nbformat": 4,
 "nbformat_minor": 0
}
