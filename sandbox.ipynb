{
 "cells": [
  {
   "cell_type": "code",
   "execution_count": 1,
   "metadata": {
    "collapsed": false
   },
   "outputs": [
    {
     "name": "stdout",
     "output_type": "stream",
     "text": [
      "1938151761\n",
      "4579\n"
     ]
    }
   ],
   "source": [
    "from drafterANN import *\n",
    "\n",
    "for m in Match.select().order_by(Match.seq_num.desc()).limit(1):\n",
    "    print(m.seq_num)\n",
    "    \n",
    "print(Match.select().count())"
   ]
  },
  {
   "cell_type": "code",
   "execution_count": null,
   "metadata": {
    "collapsed": false
   },
   "outputs": [],
   "source": [
    "from dota_api import Dota_API\n",
    "\n",
    "api = Dota_API()\n",
    "\n",
    "next_id = 1938143418\n",
    "\n",
    "while True:\n",
    "    req = api.matches_get(True, next_id)\n",
    "    print(req['url'])\n",
    "    matches = api.matches_result(req)\n",
    "    print(len(matches))\n",
    "    next_id = matches[-1]['match_seq_num'] + 1"
   ]
  },
  {
   "cell_type": "code",
   "execution_count": 2,
   "metadata": {
    "collapsed": false
   },
   "outputs": [
    {
     "name": "stdout",
     "output_type": "stream",
     "text": [
      "1938132489\n"
     ]
    }
   ],
   "source": [
    "from drafterANN import *\n",
    "\n",
    "for m in Match.select().order_by(Match.seq_num.desc()).limit(1).offset(4000):\n",
    "    print(m.seq_num)"
   ]
  },
  {
   "cell_type": "code",
   "execution_count": 4,
   "metadata": {
    "collapsed": false
   },
   "outputs": [
    {
     "data": {
      "text/plain": [
       "45633704"
      ]
     },
     "execution_count": 4,
     "metadata": {},
     "output_type": "execute_result"
    }
   ],
   "source": [
    "Match.delete().where(Match.seq_num < 1938132489).execute()"
   ]
  },
  {
   "cell_type": "code",
   "execution_count": null,
   "metadata": {
    "collapsed": true
   },
   "outputs": [],
   "source": []
  }
 ],
 "metadata": {
  "kernelspec": {
   "display_name": "Python 3",
   "language": "python",
   "name": "python3"
  },
  "language_info": {
   "codemirror_mode": {
    "name": "ipython",
    "version": 3
   },
   "file_extension": ".py",
   "mimetype": "text/x-python",
   "name": "python",
   "nbconvert_exporter": "python",
   "pygments_lexer": "ipython3",
   "version": "3.4.3"
  }
 },
 "nbformat": 4,
 "nbformat_minor": 0
}
