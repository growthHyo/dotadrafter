{
 "cells": [
  {
   "cell_type": "code",
   "execution_count": 1,
   "metadata": {
    "collapsed": false
   },
   "outputs": [],
   "source": [
    "import pandas as pd\n",
    "import requests"
   ]
  },
  {
   "cell_type": "code",
   "execution_count": 2,
   "metadata": {
    "collapsed": false
   },
   "outputs": [],
   "source": [
    "res = requests.get('http://www.dotabuff.com/heroes/meta', headers={'User-Agent': 'Grue'})"
   ]
  },
  {
   "cell_type": "code",
   "execution_count": 3,
   "metadata": {
    "collapsed": false
   },
   "outputs": [],
   "source": [
    "meta = pd.read_html(res.text)[0]"
   ]
  },
  {
   "cell_type": "code",
   "execution_count": 4,
   "metadata": {
    "collapsed": false
   },
   "outputs": [],
   "source": [
    "meta = meta.drop(meta.columns[12:], axis=1)\n",
    "meta = meta.drop(meta.columns[[0,2,4,6,8,10]], axis=1)"
   ]
  },
  {
   "cell_type": "code",
   "execution_count": 5,
   "metadata": {
    "collapsed": true
   },
   "outputs": [],
   "source": [
    "meta.columns=['Hero', 1500, 2500, 3500, 4500, 5500]"
   ]
  },
  {
   "cell_type": "code",
   "execution_count": 6,
   "metadata": {
    "collapsed": false
   },
   "outputs": [],
   "source": [
    "meta = meta.set_index('Hero')"
   ]
  },
  {
   "cell_type": "code",
   "execution_count": 7,
   "metadata": {
    "collapsed": true
   },
   "outputs": [],
   "source": [
    "meta.columns=[1500, 2500, 3500, 4500, 5500]"
   ]
  },
  {
   "cell_type": "code",
   "execution_count": 8,
   "metadata": {
    "collapsed": false
   },
   "outputs": [],
   "source": [
    "meta = meta.replace('%','',regex=True).astype('float')/100"
   ]
  },
  {
   "cell_type": "code",
   "execution_count": 9,
   "metadata": {
    "collapsed": false
   },
   "outputs": [],
   "source": [
    "import matplotlib.pyplot as plt"
   ]
  },
  {
   "cell_type": "code",
   "execution_count": 10,
   "metadata": {
    "collapsed": true
   },
   "outputs": [],
   "source": [
    "%matplotlib inline  "
   ]
  },
  {
   "cell_type": "code",
   "execution_count": 11,
   "metadata": {
    "collapsed": true
   },
   "outputs": [],
   "source": [
    "from scipy import stats"
   ]
  },
  {
   "cell_type": "code",
   "execution_count": 12,
   "metadata": {
    "collapsed": false
   },
   "outputs": [
    {
     "name": "stdout",
     "output_type": "stream",
     "text": [
      "Weights file not found\n"
     ]
    }
   ],
   "source": [
    "from imp import reload\n",
    "from drafterANN import *\n",
    "\n",
    "drafter = DotoAnn()"
   ]
  },
  {
   "cell_type": "code",
   "execution_count": 13,
   "metadata": {
    "collapsed": false
   },
   "outputs": [],
   "source": [
    "%load_ext autoreload\n",
    "%autoreload 2"
   ]
  },
  {
   "cell_type": "code",
   "execution_count": 14,
   "metadata": {
    "collapsed": true
   },
   "outputs": [],
   "source": [
    "meta_scales = np.zeros((max_heroes, 1))"
   ]
  },
  {
   "cell_type": "code",
   "execution_count": 15,
   "metadata": {
    "collapsed": false
   },
   "outputs": [],
   "source": [
    "meta_test = dict()\n",
    "x = meta.columns\n",
    "\n",
    "i = 1\n",
    "\n",
    "for row in meta.iterrows():\n",
    "    while i not in heroes:\n",
    "        i += 1\n",
    "    hero = row[0]\n",
    "    y = row[1]\n",
    "    model = stats.linregress(x, y)\n",
    "    m = model.slope\n",
    "    meta_scales[i] = m\n",
    "    i += 1\n",
    "    \n",
    "    meta_test[hero] = m"
   ]
  },
  {
   "cell_type": "code",
   "execution_count": 16,
   "metadata": {
    "collapsed": false
   },
   "outputs": [
    {
     "data": {
      "text/plain": [
       "(400, 1)"
      ]
     },
     "execution_count": 16,
     "metadata": {},
     "output_type": "execute_result"
    }
   ],
   "source": [
    "np.vstack((meta_scales, np.zeros((max_heroes, 1)))).shape"
   ]
  },
  {
   "cell_type": "code",
   "execution_count": 17,
   "metadata": {
    "collapsed": false
   },
   "outputs": [],
   "source": [
    "np.save('data/mmr_scale', meta_scales)"
   ]
  },
  {
   "cell_type": "code",
   "execution_count": 18,
   "metadata": {
    "collapsed": false
   },
   "outputs": [
    {
     "name": "stdout",
     "output_type": "stream",
     "text": [
      "Bristleback -2.278e-05\n",
      "Spectre -1.26e-05\n",
      "Troll Warlord -1.247e-05\n",
      "Zeus -1.241e-05\n",
      "Medusa -1.24e-05\n",
      "Wraith King -1.16e-05\n",
      "Dazzle -1.117e-05\n",
      "Riki -1.106e-05\n",
      "Chaos Knight -1.059e-05\n",
      "Undying -1.018e-05\n",
      "Phantom Assassin -1e-05\n",
      "Crystal Maiden -9.99e-06\n",
      "Sniper -9.83e-06\n",
      "Ursa -9.01e-06\n",
      "Techies -8.92e-06\n",
      "Phantom Lancer -8.88e-06\n",
      "Jakiro -8.54e-06\n",
      "Abaddon -7.76e-06\n",
      "Lich -7.29e-06\n",
      "Ogre Magi -7.22e-06\n",
      "Axe -6.93e-06\n",
      "Ancient Apparition -6.8e-06\n",
      "Luna -6.48e-06\n",
      "Keeper of the Light -5.24e-06\n",
      "Venomancer -4.97e-06\n",
      "Vengeful Spirit -4.89e-06\n",
      "Sven -4.89e-06\n",
      "Spirit Breaker -4.63e-06\n",
      "Enigma -4.6e-06\n",
      "Bloodseeker -4.46e-06\n",
      "Necrophos -4.43e-06\n",
      "Disruptor -4.16e-06\n",
      "Viper -3.92e-06\n",
      "Sand King -3.27e-06\n",
      "Juggernaut -2.98e-06\n",
      "Shadow Shaman -2.6e-06\n",
      "Skywrath Mage -2.57e-06\n",
      "Omniknight -2.42e-06\n",
      "Centaur Warrunner -2.07e-06\n",
      "Drow Ranger -1.97e-06\n",
      "Warlock -1.91e-06\n",
      "Tidehunter -1.87e-06\n",
      "Anti-Mage -1.79e-06\n",
      "Alchemist -1.57e-06\n",
      "Razor -1.54e-06\n",
      "Silencer -1.22e-06\n",
      "Tinker -1.07e-06\n",
      "Weaver -9.4e-07\n",
      "Pudge -9.2e-07\n",
      "Mirana -8.7e-07\n",
      "Dragon Knight -7.1e-07\n",
      "Witch Doctor -4.6e-07\n",
      "Slark -3.8e-07\n",
      "Brewmaster -1.06581410364e-20\n",
      "Shadow Fiend 7e-08\n",
      "Night Stalker 2e-07\n",
      "Earthshaker 2.1e-07\n",
      "Underlord 1.14e-06\n",
      "Windranger 1.45e-06\n",
      "Dark Seer 1.9e-06\n",
      "Treant Protector 1.93e-06\n",
      "Beastmaster 2.02e-06\n",
      "Slardar 2.02e-06\n",
      "Lycan 2.21e-06\n",
      "Nature's Prophet 2.64e-06\n",
      "Kunkka 2.98e-06\n",
      "Clockwerk 3e-06\n",
      "Faceless Void 3.08e-06\n",
      "Legion Commander 3.43e-06\n",
      "Lifestealer 3.51e-06\n",
      "Outworld Devourer 3.56e-06\n",
      "Elder Titan 3.92e-06\n",
      "Gyrocopter 3.93e-06\n",
      "Morphling 4.21e-06\n",
      "Invoker 4.58e-06\n",
      "Huskar 5.03e-06\n",
      "Monkey King 5.18e-06\n",
      "Chen 6e-06\n",
      "Nyx Assassin 6.15e-06\n",
      "Storm Spirit 6.41e-06\n",
      "Timbersaw 6.47e-06\n",
      "Terrorblade 6.49e-06\n",
      "Lina 6.57e-06\n",
      "Visage 6.91e-06\n",
      "Phoenix 7.37e-06\n",
      "Rubick 7.47e-06\n",
      "Pangolier 7.47e-06\n",
      "Death Prophet 7.58e-06\n",
      "Lion 7.63e-06\n",
      "Magnus 8.04e-06\n",
      "Clinkz 9.11e-06\n",
      "Pugna 9.48e-06\n",
      "Puck 9.52e-06\n",
      "Tusk 9.72e-06\n",
      "Enchantress 9.82e-06\n",
      "Ember Spirit 9.84e-06\n",
      "Arc Warden 1.063e-05\n",
      "Bane 1.064e-05\n",
      "Dark Willow 1.151e-05\n",
      "Doom 1.163e-05\n",
      "Batrider 1.186e-05\n",
      "Naga Siren 1.329e-05\n",
      "Shadow Demon 1.343e-05\n",
      "Winter Wyvern 1.361e-05\n",
      "Broodmother 1.429e-05\n",
      "Bounty Hunter 1.454e-05\n",
      "Tiny 1.509e-05\n",
      "Lone Druid 1.534e-05\n",
      "Meepo 1.556e-05\n",
      "Leshrac 1.645e-05\n",
      "Queen of Pain 1.675e-05\n",
      "Earth Spirit 1.679e-05\n",
      "Templar Assassin 1.795e-05\n",
      "Oracle 2.143e-05\n",
      "Io 2.59e-05\n"
     ]
    }
   ],
   "source": [
    "for key in sorted(meta_test, key=meta_test.get):\n",
    "    print(key, meta_test[key])"
   ]
  },
  {
   "cell_type": "code",
   "execution_count": 19,
   "metadata": {
    "collapsed": false,
    "scrolled": true
   },
   "outputs": [
    {
     "name": "stdout",
     "output_type": "stream",
     "text": [
      "1.556e-05\n"
     ]
    },
    {
     "data": {
      "image/png": "[encoded data removed]",
      "text/plain": [
       "<matplotlib.figure.Figure at 0x7fc23a7ec518>"
      ]
     },
     "metadata": {},
     "output_type": "display_data"
    }
   ],
   "source": [
    "y = meta.loc['Meepo']\n",
    "model = stats.linregress(x, y)\n",
    "m = model.slope\n",
    "c = model.intercept\n",
    "\n",
    "y_pred = m*x + c\n",
    "meta.loc['Meepo'].plot()\n",
    "plt.plot(x, y_pred)\n",
    "print(m)"
   ]
  },
  {
   "cell_type": "code",
   "execution_count": 20,
   "metadata": {
    "collapsed": false
   },
   "outputs": [
    {
     "data": {
      "text/plain": [
       "{1: 'antimage',\n",
       " 2: 'axe',\n",
       " 3: 'bane',\n",
       " 4: 'bloodseeker',\n",
       " 5: 'crystal maiden',\n",
       " 6: 'drow ranger',\n",
       " 7: 'earthshaker',\n",
       " 8: 'juggernaut',\n",
       " 9: 'mirana',\n",
       " 10: 'morphling',\n",
       " 11: 'nevermore',\n",
       " 12: 'phantom lancer',\n",
       " 13: 'puck',\n",
       " 14: 'pudge',\n",
       " 15: 'razor',\n",
       " 16: 'sand king',\n",
       " 17: 'storm spirit',\n",
       " 18: 'sven',\n",
       " 19: 'tiny',\n",
       " 20: 'vengefulspirit',\n",
       " 21: 'windrunner',\n",
       " 22: 'zuus',\n",
       " 23: 'kunkka',\n",
       " 25: 'lina',\n",
       " 26: 'lion',\n",
       " 27: 'shadow shaman',\n",
       " 28: 'slardar',\n",
       " 29: 'tidehunter',\n",
       " 30: 'witch doctor',\n",
       " 31: 'lich',\n",
       " 32: 'riki',\n",
       " 33: 'enigma',\n",
       " 34: 'tinker',\n",
       " 35: 'sniper',\n",
       " 36: 'necrolyte',\n",
       " 37: 'warlock',\n",
       " 38: 'beastmaster',\n",
       " 39: 'queenofpain',\n",
       " 40: 'venomancer',\n",
       " 41: 'faceless void',\n",
       " 42: 'skeleton king',\n",
       " 43: 'death prophet',\n",
       " 44: 'phantom assassin',\n",
       " 45: 'pugna',\n",
       " 46: 'templar assassin',\n",
       " 47: 'viper',\n",
       " 48: 'luna',\n",
       " 49: 'dragon knight',\n",
       " 50: 'dazzle',\n",
       " 51: 'rattletrap',\n",
       " 52: 'leshrac',\n",
       " 53: 'furion',\n",
       " 54: 'life stealer',\n",
       " 55: 'dark seer',\n",
       " 56: 'clinkz',\n",
       " 57: 'omniknight',\n",
       " 58: 'enchantress',\n",
       " 59: 'huskar',\n",
       " 60: 'night stalker',\n",
       " 61: 'broodmother',\n",
       " 62: 'bounty hunter',\n",
       " 63: 'weaver',\n",
       " 64: 'jakiro',\n",
       " 65: 'batrider',\n",
       " 66: 'chen',\n",
       " 67: 'spectre',\n",
       " 68: 'ancient apparition',\n",
       " 69: 'doom bringer',\n",
       " 70: 'ursa',\n",
       " 71: 'spirit breaker',\n",
       " 72: 'gyrocopter',\n",
       " 73: 'alchemist',\n",
       " 74: 'invoker',\n",
       " 75: 'silencer',\n",
       " 76: 'obsidian destroyer',\n",
       " 77: 'lycan',\n",
       " 78: 'brewmaster',\n",
       " 79: 'shadow demon',\n",
       " 80: 'lone druid',\n",
       " 81: 'chaos knight',\n",
       " 82: 'meepo',\n",
       " 83: 'treant',\n",
       " 84: 'ogre magi',\n",
       " 85: 'undying',\n",
       " 86: 'rubick',\n",
       " 87: 'disruptor',\n",
       " 88: 'nyx assassin',\n",
       " 89: 'naga siren',\n",
       " 90: 'keeper of the light',\n",
       " 91: 'wisp',\n",
       " 92: 'visage',\n",
       " 93: 'slark',\n",
       " 94: 'medusa',\n",
       " 95: 'troll warlord',\n",
       " 96: 'centaur',\n",
       " 97: 'magnataur',\n",
       " 98: 'shredder',\n",
       " 99: 'bristleback',\n",
       " 100: 'tusk',\n",
       " 101: 'skywrath mage',\n",
       " 102: 'abaddon',\n",
       " 103: 'elder titan',\n",
       " 104: 'legion commander',\n",
       " 105: 'techies',\n",
       " 106: 'ember spirit',\n",
       " 107: 'earth spirit',\n",
       " 108: 'abyssal underlord',\n",
       " 109: 'terrorblade',\n",
       " 110: 'phoenix',\n",
       " 111: 'oracle',\n",
       " 112: 'winter wyvern',\n",
       " 113: 'arc warden',\n",
       " 114: 'monkey king',\n",
       " 119: 'dark willow',\n",
       " 120: 'pangolier'}"
      ]
     },
     "execution_count": 20,
     "metadata": {},
     "output_type": "execute_result"
    }
   ],
   "source": [
    "heroes"
   ]
  },
  {
   "cell_type": "code",
   "execution_count": null,
   "metadata": {
    "collapsed": true
   },
   "outputs": [],
   "source": []
  }
 ],
 "metadata": {
  "kernelspec": {
   "display_name": "Python 3",
   "language": "python",
   "name": "python3"
  },
  "language_info": {
   "codemirror_mode": {
    "name": "ipython",
    "version": 3
   },
   "file_extension": ".py",
   "mimetype": "text/x-python",
   "name": "python",
   "nbconvert_exporter": "python",
   "pygments_lexer": "ipython3",
   "version": "3.4.3"
  }
 },
 "nbformat": 4,
 "nbformat_minor": 0
}
