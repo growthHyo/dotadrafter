{
 "cells": [
  {
   "cell_type": "code",
   "execution_count": 1,
   "metadata": {
    "collapsed": false
   },
   "outputs": [],
   "source": [
    "import pandas as pd\n",
    "import requests"
   ]
  },
  {
   "cell_type": "code",
   "execution_count": 2,
   "metadata": {
    "collapsed": false
   },
   "outputs": [],
   "source": [
    "res = requests.get('http://www.dotabuff.com/heroes/meta', headers={'User-Agent': 'Grue'})"
   ]
  },
  {
   "cell_type": "code",
   "execution_count": 3,
   "metadata": {
    "collapsed": false
   },
   "outputs": [],
   "source": [
    "meta = pd.read_html(res.text)[0]"
   ]
  },
  {
   "cell_type": "code",
   "execution_count": 4,
   "metadata": {
    "collapsed": false
   },
   "outputs": [],
   "source": [
    "meta = meta.drop(meta.columns[12:], axis=1)\n",
    "meta = meta.drop(meta.columns[[0,2,4,6,8,10]], axis=1)"
   ]
  },
  {
   "cell_type": "code",
   "execution_count": 5,
   "metadata": {
    "collapsed": true
   },
   "outputs": [],
   "source": [
    "meta.columns=['Hero', 1500, 2500, 3500, 4500, 5500]"
   ]
  },
  {
   "cell_type": "code",
   "execution_count": 6,
   "metadata": {
    "collapsed": false
   },
   "outputs": [],
   "source": [
    "meta = meta.set_index('Hero')"
   ]
  },
  {
   "cell_type": "code",
   "execution_count": 7,
   "metadata": {
    "collapsed": true
   },
   "outputs": [],
   "source": [
    "meta.columns=[1500, 2500, 3500, 4500, 5500]"
   ]
  },
  {
   "cell_type": "code",
   "execution_count": 8,
   "metadata": {
    "collapsed": false
   },
   "outputs": [],
   "source": [
    "meta = meta.replace('%','',regex=True).astype('float')/100"
   ]
  },
  {
   "cell_type": "code",
   "execution_count": 9,
   "metadata": {
    "collapsed": false
   },
   "outputs": [],
   "source": [
    "import matplotlib.pyplot as plt"
   ]
  },
  {
   "cell_type": "code",
   "execution_count": 10,
   "metadata": {
    "collapsed": true
   },
   "outputs": [],
   "source": [
    "%matplotlib inline  "
   ]
  },
  {
   "cell_type": "code",
   "execution_count": 11,
   "metadata": {
    "collapsed": true
   },
   "outputs": [],
   "source": [
    "from scipy import stats"
   ]
  },
  {
   "cell_type": "code",
   "execution_count": 12,
   "metadata": {
    "collapsed": false
   },
   "outputs": [],
   "source": [
    "from imp import reload\n",
    "from drafterANN import *\n",
    "\n",
    "drafter = DotoAnn()"
   ]
  },
  {
   "cell_type": "code",
   "execution_count": 13,
   "metadata": {
    "collapsed": false
   },
   "outputs": [],
   "source": [
    "%load_ext autoreload\n",
    "%autoreload 2"
   ]
  },
  {
   "cell_type": "code",
   "execution_count": 14,
   "metadata": {
    "collapsed": true
   },
   "outputs": [],
   "source": [
    "meta_scales = np.zeros((max_heroes, 1))"
   ]
  },
  {
   "cell_type": "code",
   "execution_count": 15,
   "metadata": {
    "collapsed": false
   },
   "outputs": [],
   "source": [
    "meta_test = dict()\n",
    "x = meta.columns\n",
    "\n",
    "i = 1\n",
    "\n",
    "for row in meta.iterrows():\n",
    "    while i not in heroes:\n",
    "        i += 1\n",
    "    hero = row[0]\n",
    "    y = row[1]\n",
    "    model = stats.linregress(x, y)\n",
    "    m = model.slope\n",
    "    meta_scales[i] = m\n",
    "    i += 1\n",
    "    \n",
    "    meta_test[hero] = m"
   ]
  },
  {
   "cell_type": "code",
   "execution_count": 16,
   "metadata": {
    "collapsed": false
   },
   "outputs": [
    {
     "data": {
      "text/plain": [
       "(240, 1)"
      ]
     },
     "execution_count": 16,
     "metadata": {},
     "output_type": "execute_result"
    }
   ],
   "source": [
    "np.vstack((meta_scales, np.zeros((max_heroes, 1)))).shape"
   ]
  },
  {
   "cell_type": "code",
   "execution_count": 17,
   "metadata": {
    "collapsed": false
   },
   "outputs": [],
   "source": [
    "np.save('data/mmr_scale', meta_scales)"
   ]
  },
  {
   "cell_type": "code",
   "execution_count": 18,
   "metadata": {
    "collapsed": false
   },
   "outputs": [
    {
     "name": "stdout",
     "output_type": "stream",
     "text": [
      "Ursa -3.195e-05\n",
      "Bristleback -2.217e-05\n",
      "Elder Titan -2.043e-05\n",
      "Medusa -1.872e-05\n",
      "Sniper -1.864e-05\n",
      "Abaddon -1.544e-05\n",
      "Warlock -1.432e-05\n",
      "Sand King -1.428e-05\n",
      "Crystal Maiden -1.378e-05\n",
      "Wraith King -1.314e-05\n",
      "Zeus -1.309e-05\n",
      "Necrophos -1.29e-05\n",
      "Phantom Assassin -1.285e-05\n",
      "Spectre -1.207e-05\n",
      "Slark -1.185e-05\n",
      "Vengeful Spirit -1.185e-05\n",
      "Luna -1.18e-05\n",
      "Windranger -1.169e-05\n",
      "Legion Commander -1.131e-05\n",
      "Ancient Apparition -1.13e-05\n",
      "Night Stalker -1.072e-05\n",
      "Dazzle -1.044e-05\n",
      "Keeper of the Light -1.038e-05\n",
      "Tidehunter -1.003e-05\n",
      "Axe -9.97e-06\n",
      "Ogre Magi -9.74e-06\n",
      "Shadow Fiend -9.56e-06\n",
      "Sven -9.54e-06\n",
      "Omniknight -9.35e-06\n",
      "Chaos Knight -8.77e-06\n",
      "Mirana -8.58e-06\n",
      "Phoenix -8.57e-06\n",
      "Disruptor -8.56e-06\n",
      "Pudge -8.48e-06\n",
      "Witch Doctor -8.46e-06\n",
      "Weaver -8.21e-06\n",
      "Troll Warlord -8.12e-06\n",
      "Phantom Lancer -8.04e-06\n",
      "Earthshaker -7.41e-06\n",
      "Riki -6.66e-06\n",
      "Dragon Knight -6.56e-06\n",
      "Shadow Shaman -6.47e-06\n",
      "Lich -6.37e-06\n",
      "Centaur Warrunner -5.66e-06\n",
      "Leshrac -4.99e-06\n",
      "Jakiro -4.96e-06\n",
      "Terrorblade -4.76e-06\n",
      "Outworld Devourer -4.74e-06\n",
      "Viper -4.39e-06\n",
      "Silencer -3.91e-06\n",
      "Bloodseeker -3.63e-06\n",
      "Gyrocopter -3.39e-06\n",
      "Slardar -3.33e-06\n",
      "Magnus -3.15e-06\n",
      "Venomancer -2.92e-06\n",
      "Razor -2.85e-06\n",
      "Techies -1.57e-06\n",
      "Treant Protector -1.35e-06\n",
      "Spirit Breaker -1.12e-06\n",
      "Juggernaut -1e-06\n",
      "Lion -8.6e-07\n",
      "Undying -7e-07\n",
      "Dark Seer -6.1e-07\n",
      "Lina -5.8e-07\n",
      "Timbersaw -5e-07\n",
      "Clockwerk -2.6e-07\n",
      "Kunkka -1.11022302463e-20\n",
      "Death Prophet 3.9e-07\n",
      "Puck 1e-06\n",
      "Alchemist 1.61e-06\n",
      "Batrider 1.78e-06\n",
      "Drow Ranger 2.04e-06\n",
      "Lifestealer 2.16e-06\n",
      "Storm Spirit 2.31e-06\n",
      "Queen of Pain 2.92e-06\n",
      "Broodmother 4.97e-06\n",
      "Brewmaster 5.31e-06\n",
      "Oracle 5.43e-06\n",
      "Nature's Prophet 5.5e-06\n",
      "Tinker 5.71e-06\n",
      "Meepo 5.74e-06\n",
      "Beastmaster 6.69e-06\n",
      "Anti-Mage 6.91e-06\n",
      "Lycan 7.12e-06\n",
      "Bane 7.62e-06\n",
      "Nyx Assassin 7.78e-06\n",
      "Templar Assassin 7.91e-06\n",
      "Enigma 8.01e-06\n",
      "Skywrath Mage 8.15e-06\n",
      "Ember Spirit 8.46e-06\n",
      "Tiny 9.06e-06\n",
      "Shadow Demon 9.14e-06\n",
      "Rubick 9.91e-06\n",
      "Lone Druid 1.072e-05\n",
      "Morphling 1.089e-05\n",
      "Clinkz 1.141e-05\n",
      "Winter Wyvern 1.245e-05\n",
      "Pugna 1.259e-05\n",
      "Tusk 1.283e-05\n",
      "Doom 1.292e-05\n",
      "Huskar 1.367e-05\n",
      "Naga Siren 1.383e-05\n",
      "Invoker 1.421e-05\n",
      "Faceless Void 1.469e-05\n",
      "Enchantress 1.473e-05\n",
      "Chen 1.728e-05\n",
      "Visage 1.935e-05\n",
      "Earth Spirit 2.423e-05\n",
      "Bounty Hunter 2.449e-05\n",
      "Arc Warden 3.02e-05\n",
      "Io 3.061e-05\n"
     ]
    }
   ],
   "source": [
    "for key in sorted(meta_test, key=meta_test.get):\n",
    "    print(key, meta_test[key])"
   ]
  },
  {
   "cell_type": "code",
   "execution_count": 19,
   "metadata": {
    "collapsed": false,
    "scrolled": true
   },
   "outputs": [
    {
     "name": "stdout",
     "output_type": "stream",
     "text": [
      "5.74e-06\n"
     ]
    },
    {
     "data": {
      "image/png": "[encoded data removed]",
      "text/plain": [
       "<matplotlib.figure.Figure at 0x7f2f0860c860>"
      ]
     },
     "metadata": {},
     "output_type": "display_data"
    }
   ],
   "source": [
    "y = meta.loc['Meepo']\n",
    "model = stats.linregress(x, y)\n",
    "m = model.slope\n",
    "c = model.intercept\n",
    "\n",
    "y_pred = m*x + c\n",
    "meta.loc['Meepo'].plot()\n",
    "plt.plot(x, y_pred)\n",
    "print(m)"
   ]
  },
  {
   "cell_type": "code",
   "execution_count": 47,
   "metadata": {
    "collapsed": false
   },
   "outputs": [
    {
     "data": {
      "text/plain": [
       "{1: 'antimage',\n",
       " 2: 'axe',\n",
       " 3: 'bane',\n",
       " 4: 'bloodseeker',\n",
       " 5: 'crystal maiden',\n",
       " 6: 'drow ranger',\n",
       " 7: 'earthshaker',\n",
       " 8: 'juggernaut',\n",
       " 9: 'mirana',\n",
       " 10: 'morphling',\n",
       " 11: 'nevermore',\n",
       " 12: 'phantom lancer',\n",
       " 13: 'puck',\n",
       " 14: 'pudge',\n",
       " 15: 'razor',\n",
       " 16: 'sand king',\n",
       " 17: 'storm spirit',\n",
       " 18: 'sven',\n",
       " 19: 'tiny',\n",
       " 20: 'vengefulspirit',\n",
       " 21: 'windrunner',\n",
       " 22: 'zuus',\n",
       " 23: 'kunkka',\n",
       " 25: 'lina',\n",
       " 26: 'lion',\n",
       " 27: 'shadow shaman',\n",
       " 28: 'slardar',\n",
       " 29: 'tidehunter',\n",
       " 30: 'witch doctor',\n",
       " 31: 'lich',\n",
       " 32: 'riki',\n",
       " 33: 'enigma',\n",
       " 34: 'tinker',\n",
       " 35: 'sniper',\n",
       " 36: 'necrolyte',\n",
       " 37: 'warlock',\n",
       " 38: 'beastmaster',\n",
       " 39: 'queenofpain',\n",
       " 40: 'venomancer',\n",
       " 41: 'faceless void',\n",
       " 42: 'skeleton king',\n",
       " 43: 'death prophet',\n",
       " 44: 'phantom assassin',\n",
       " 45: 'pugna',\n",
       " 46: 'templar assassin',\n",
       " 47: 'viper',\n",
       " 48: 'luna',\n",
       " 49: 'dragon knight',\n",
       " 50: 'dazzle',\n",
       " 51: 'rattletrap',\n",
       " 52: 'leshrac',\n",
       " 53: 'furion',\n",
       " 54: 'life stealer',\n",
       " 55: 'dark seer',\n",
       " 56: 'clinkz',\n",
       " 57: 'omniknight',\n",
       " 58: 'enchantress',\n",
       " 59: 'huskar',\n",
       " 60: 'night stalker',\n",
       " 61: 'broodmother',\n",
       " 62: 'bounty hunter',\n",
       " 63: 'weaver',\n",
       " 64: 'jakiro',\n",
       " 65: 'batrider',\n",
       " 66: 'chen',\n",
       " 67: 'spectre',\n",
       " 68: 'ancient apparition',\n",
       " 69: 'doom bringer',\n",
       " 70: 'ursa',\n",
       " 71: 'spirit breaker',\n",
       " 72: 'gyrocopter',\n",
       " 73: 'alchemist',\n",
       " 74: 'invoker',\n",
       " 75: 'silencer',\n",
       " 76: 'obsidian destroyer',\n",
       " 77: 'lycan',\n",
       " 78: 'brewmaster',\n",
       " 79: 'shadow demon',\n",
       " 80: 'lone druid',\n",
       " 81: 'chaos knight',\n",
       " 82: 'meepo',\n",
       " 83: 'treant',\n",
       " 84: 'ogre magi',\n",
       " 85: 'undying',\n",
       " 86: 'rubick',\n",
       " 87: 'disruptor',\n",
       " 88: 'nyx assassin',\n",
       " 89: 'naga siren',\n",
       " 90: 'keeper of the light',\n",
       " 91: 'wisp',\n",
       " 92: 'visage',\n",
       " 93: 'slark',\n",
       " 94: 'medusa',\n",
       " 95: 'troll warlord',\n",
       " 96: 'centaur',\n",
       " 97: 'magnataur',\n",
       " 98: 'shredder',\n",
       " 99: 'bristleback',\n",
       " 100: 'tusk',\n",
       " 101: 'skywrath mage',\n",
       " 102: 'abaddon',\n",
       " 103: 'elder titan',\n",
       " 104: 'legion commander',\n",
       " 105: 'techies',\n",
       " 106: 'ember spirit',\n",
       " 107: 'earth spirit',\n",
       " 109: 'terrorblade',\n",
       " 110: 'phoenix',\n",
       " 111: 'oracle',\n",
       " 112: 'winter wyvern',\n",
       " 113: 'arc warden'}"
      ]
     },
     "execution_count": 47,
     "metadata": {},
     "output_type": "execute_result"
    }
   ],
   "source": [
    "heroes"
   ]
  },
  {
   "cell_type": "code",
   "execution_count": null,
   "metadata": {
    "collapsed": true
   },
   "outputs": [],
   "source": []
  }
 ],
 "metadata": {
  "kernelspec": {
   "display_name": "Python 3",
   "language": "python",
   "name": "python3"
  },
  "language_info": {
   "codemirror_mode": {
    "name": "ipython",
    "version": 3
   },
   "file_extension": ".py",
   "mimetype": "text/x-python",
   "name": "python",
   "nbconvert_exporter": "python",
   "pygments_lexer": "ipython3",
   "version": "3.4.3"
  }
 },
 "nbformat": 4,
 "nbformat_minor": 0
}
