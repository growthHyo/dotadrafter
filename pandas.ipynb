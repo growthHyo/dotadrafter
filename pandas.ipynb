{
 "cells": [
  {
   "cell_type": "code",
   "execution_count": 1,
   "metadata": {
    "collapsed": false
   },
   "outputs": [],
   "source": [
    "import pandas as pd\n",
    "import requests"
   ]
  },
  {
   "cell_type": "code",
   "execution_count": 2,
   "metadata": {
    "collapsed": false
   },
   "outputs": [],
   "source": [
    "res = requests.get('http://www.dotabuff.com/heroes/meta', headers={'User-Agent': 'Grue'})"
   ]
  },
  {
   "cell_type": "code",
   "execution_count": 3,
   "metadata": {
    "collapsed": false
   },
   "outputs": [],
   "source": [
    "meta = pd.read_html(res.text)[0]"
   ]
  },
  {
   "cell_type": "code",
   "execution_count": 4,
   "metadata": {
    "collapsed": false
   },
   "outputs": [],
   "source": [
    "meta = meta.drop(meta.columns[12:], axis=1)\n",
    "meta = meta.drop(meta.columns[[0,2,4,6,8,10]], axis=1)"
   ]
  },
  {
   "cell_type": "code",
   "execution_count": 5,
   "metadata": {
    "collapsed": true
   },
   "outputs": [],
   "source": [
    "meta.columns=['Hero', 1500, 2500, 3500, 4500, 5500]"
   ]
  },
  {
   "cell_type": "code",
   "execution_count": 6,
   "metadata": {
    "collapsed": false
   },
   "outputs": [],
   "source": [
    "meta = meta.set_index('Hero')"
   ]
  },
  {
   "cell_type": "code",
   "execution_count": 7,
   "metadata": {
    "collapsed": true
   },
   "outputs": [],
   "source": [
    "meta.columns=[1500, 2500, 3500, 4500, 5500]"
   ]
  },
  {
   "cell_type": "code",
   "execution_count": 8,
   "metadata": {
    "collapsed": false
   },
   "outputs": [],
   "source": [
    "meta = meta.replace('%','',regex=True).astype('float')/100"
   ]
  },
  {
   "cell_type": "code",
   "execution_count": 9,
   "metadata": {
    "collapsed": false
   },
   "outputs": [],
   "source": [
    "import matplotlib.pyplot as plt"
   ]
  },
  {
   "cell_type": "code",
   "execution_count": 10,
   "metadata": {
    "collapsed": true
   },
   "outputs": [],
   "source": [
    "%matplotlib inline  "
   ]
  },
  {
   "cell_type": "code",
   "execution_count": 11,
   "metadata": {
    "collapsed": true
   },
   "outputs": [],
   "source": [
    "from scipy import stats"
   ]
  },
  {
   "cell_type": "code",
   "execution_count": 12,
   "metadata": {
    "collapsed": false
   },
   "outputs": [],
   "source": [
    "from imp import reload\n",
    "from drafterANN import *\n",
    "\n",
    "drafter = DotoAnn()"
   ]
  },
  {
   "cell_type": "code",
   "execution_count": 13,
   "metadata": {
    "collapsed": false
   },
   "outputs": [],
   "source": [
    "%load_ext autoreload\n",
    "%autoreload 2"
   ]
  },
  {
   "cell_type": "code",
   "execution_count": 14,
   "metadata": {
    "collapsed": true
   },
   "outputs": [],
   "source": [
    "meta_scales = np.zeros((max_heroes, 1))"
   ]
  },
  {
   "cell_type": "code",
   "execution_count": 15,
   "metadata": {
    "collapsed": false
   },
   "outputs": [],
   "source": [
    "meta_test = dict()\n",
    "x = meta.columns\n",
    "\n",
    "i = 1\n",
    "\n",
    "for row in meta.iterrows():\n",
    "    while i not in heroes:\n",
    "        i += 1\n",
    "    hero = row[0]\n",
    "    y = row[1]\n",
    "    model = stats.linregress(x, y)\n",
    "    m = model.slope\n",
    "    meta_scales[i] = m\n",
    "    i += 1\n",
    "    \n",
    "    meta_test[hero] = m"
   ]
  },
  {
   "cell_type": "code",
   "execution_count": 16,
   "metadata": {
    "collapsed": false
   },
   "outputs": [
    {
     "data": {
      "text/plain": [
       "(240, 1)"
      ]
     },
     "execution_count": 16,
     "metadata": {},
     "output_type": "execute_result"
    }
   ],
   "source": [
    "np.vstack((meta_scales, np.zeros((max_heroes, 1)))).shape"
   ]
  },
  {
   "cell_type": "code",
   "execution_count": 17,
   "metadata": {
    "collapsed": false
   },
   "outputs": [],
   "source": [
    "np.save('data/mmr_scale', meta_scales)"
   ]
  },
  {
   "cell_type": "code",
   "execution_count": 18,
   "metadata": {
    "collapsed": false
   },
   "outputs": [
    {
     "name": "stdout",
     "output_type": "stream",
     "text": [
      "Wraith King -1.634e-05\n",
      "Bristleback -1.617e-05\n",
      "Necrophos -1.47e-05\n",
      "Riki -1.397e-05\n",
      "Axe -1.358e-05\n",
      "Crystal Maiden -1.347e-05\n",
      "Ursa -1.327e-05\n",
      "Chaos Knight -1.292e-05\n",
      "Medusa -1.227e-05\n",
      "Bloodseeker -1.219e-05\n",
      "Sven -1.127e-05\n",
      "Phantom Assassin -1.096e-05\n",
      "Spectre -1.085e-05\n",
      "Warlock -9.83e-06\n",
      "Lich -9.09e-06\n",
      "Luna -8.74e-06\n",
      "Troll Warlord -8.63e-06\n",
      "Mirana -8.5e-06\n",
      "Zeus -8.11e-06\n",
      "Legion Commander -7.88e-06\n",
      "Abaddon -7.83e-06\n",
      "Ogre Magi -7.48e-06\n",
      "Elder Titan -7.39e-06\n",
      "Centaur Warrunner -6.36e-06\n",
      "Dazzle -6.2e-06\n",
      "Witch Doctor -6.17e-06\n",
      "Viper -6.12e-06\n",
      "Ancient Apparition -6.06e-06\n",
      "Dragon Knight -6.01e-06\n",
      "Omniknight -5.84e-06\n",
      "Vengeful Spirit -5.76e-06\n",
      "Shadow Fiend -4.96e-06\n",
      "Venomancer -4.96e-06\n",
      "Jakiro -4.8e-06\n",
      "Phantom Lancer -4.35e-06\n",
      "Keeper of the Light -3.85e-06\n",
      "Nature's Prophet -3.7e-06\n",
      "Weaver -3.45e-06\n",
      "Slark -3.29e-06\n",
      "Timbersaw -3.21e-06\n",
      "Undying -2.85e-06\n",
      "Spirit Breaker -2.59e-06\n",
      "Sand King -2.56e-06\n",
      "Shadow Shaman -2.47e-06\n",
      "Phoenix -2.22e-06\n",
      "Sniper -1.97e-06\n",
      "Drow Ranger -1.84e-06\n",
      "Windranger -1.48e-06\n",
      "Silencer -1.44e-06\n",
      "Gyrocopter -1.38e-06\n",
      "Night Stalker -1.37e-06\n",
      "Techies -8.3e-07\n",
      "Brewmaster -3.9e-07\n",
      "Tidehunter -3.3e-07\n",
      "Pudge 2e-07\n",
      "Razor 2.2e-07\n",
      "Treant Protector 7e-07\n",
      "Slardar 9.9e-07\n",
      "Outworld Devourer 1.33e-06\n",
      "Lycan 1.54e-06\n",
      "Monkey King 1.87e-06\n",
      "Terrorblade 2e-06\n",
      "Alchemist 2.56e-06\n",
      "Enchantress 2.58e-06\n",
      "Juggernaut 2.87e-06\n",
      "Clockwerk 3.02e-06\n",
      "Underlord 3.42e-06\n",
      "Beastmaster 3.46e-06\n",
      "Enigma 3.62e-06\n",
      "Disruptor 3.77e-06\n",
      "Doom 4.17e-06\n",
      "Lion 4.28e-06\n",
      "Lifestealer 4.79e-06\n",
      "Batrider 5.27e-06\n",
      "Death Prophet 5.37e-06\n",
      "Skywrath Mage 5.41e-06\n",
      "Nyx Assassin 5.48e-06\n",
      "Earthshaker 5.65e-06\n",
      "Lina 5.66e-06\n",
      "Magnus 6.51e-06\n",
      "Morphling 6.79e-06\n",
      "Broodmother 7.02e-06\n",
      "Tiny 7.02e-06\n",
      "Leshrac 7.54e-06\n",
      "Naga Siren 7.66e-06\n",
      "Tusk 8.34e-06\n",
      "Huskar 8.68e-06\n",
      "Rubick 8.92e-06\n",
      "Anti-Mage 9.58e-06\n",
      "Pugna 1.006e-05\n",
      "Storm Spirit 1.008e-05\n",
      "Meepo 1.013e-05\n",
      "Winter Wyvern 1.013e-05\n",
      "Invoker 1.029e-05\n",
      "Dark Seer 1.057e-05\n",
      "Faceless Void 1.112e-05\n",
      "Kunkka 1.221e-05\n",
      "Clinkz 1.257e-05\n",
      "Bane 1.338e-05\n",
      "Templar Assassin 1.433e-05\n",
      "Tinker 1.493e-05\n",
      "Oracle 1.514e-05\n",
      "Bounty Hunter 1.539e-05\n",
      "Queen of Pain 1.547e-05\n",
      "Puck 1.608e-05\n",
      "Visage 1.725e-05\n",
      "Shadow Demon 1.745e-05\n",
      "Arc Warden 2.124e-05\n",
      "Chen 2.211e-05\n",
      "Lone Druid 2.439e-05\n",
      "Earth Spirit 2.519e-05\n",
      "Ember Spirit 2.641e-05\n",
      "Io 3.305e-05\n"
     ]
    }
   ],
   "source": [
    "for key in sorted(meta_test, key=meta_test.get):\n",
    "    print(key, meta_test[key])"
   ]
  },
  {
   "cell_type": "code",
   "execution_count": 19,
   "metadata": {
    "collapsed": false,
    "scrolled": true
   },
   "outputs": [
    {
     "name": "stdout",
     "output_type": "stream",
     "text": [
      "1.013e-05\n"
     ]
    },
    {
     "data": {
      "image/png": "[encoded data removed]",
      "text/plain": [
       "<matplotlib.figure.Figure at 0x7f6ec0161748>"
      ]
     },
     "metadata": {},
     "output_type": "display_data"
    }
   ],
   "source": [
    "y = meta.loc['Meepo']\n",
    "model = stats.linregress(x, y)\n",
    "m = model.slope\n",
    "c = model.intercept\n",
    "\n",
    "y_pred = m*x + c\n",
    "meta.loc['Meepo'].plot()\n",
    "plt.plot(x, y_pred)\n",
    "print(m)"
   ]
  },
  {
   "cell_type": "code",
   "execution_count": 20,
   "metadata": {
    "collapsed": false
   },
   "outputs": [
    {
     "data": {
      "text/plain": [
       "{1: 'antimage',\n",
       " 2: 'axe',\n",
       " 3: 'bane',\n",
       " 4: 'bloodseeker',\n",
       " 5: 'crystal maiden',\n",
       " 6: 'drow ranger',\n",
       " 7: 'earthshaker',\n",
       " 8: 'juggernaut',\n",
       " 9: 'mirana',\n",
       " 10: 'morphling',\n",
       " 11: 'nevermore',\n",
       " 12: 'phantom lancer',\n",
       " 13: 'puck',\n",
       " 14: 'pudge',\n",
       " 15: 'razor',\n",
       " 16: 'sand king',\n",
       " 17: 'storm spirit',\n",
       " 18: 'sven',\n",
       " 19: 'tiny',\n",
       " 20: 'vengefulspirit',\n",
       " 21: 'windrunner',\n",
       " 22: 'zuus',\n",
       " 23: 'kunkka',\n",
       " 25: 'lina',\n",
       " 26: 'lion',\n",
       " 27: 'shadow shaman',\n",
       " 28: 'slardar',\n",
       " 29: 'tidehunter',\n",
       " 30: 'witch doctor',\n",
       " 31: 'lich',\n",
       " 32: 'riki',\n",
       " 33: 'enigma',\n",
       " 34: 'tinker',\n",
       " 35: 'sniper',\n",
       " 36: 'necrolyte',\n",
       " 37: 'warlock',\n",
       " 38: 'beastmaster',\n",
       " 39: 'queenofpain',\n",
       " 40: 'venomancer',\n",
       " 41: 'faceless void',\n",
       " 42: 'skeleton king',\n",
       " 43: 'death prophet',\n",
       " 44: 'phantom assassin',\n",
       " 45: 'pugna',\n",
       " 46: 'templar assassin',\n",
       " 47: 'viper',\n",
       " 48: 'luna',\n",
       " 49: 'dragon knight',\n",
       " 50: 'dazzle',\n",
       " 51: 'rattletrap',\n",
       " 52: 'leshrac',\n",
       " 53: 'furion',\n",
       " 54: 'life stealer',\n",
       " 55: 'dark seer',\n",
       " 56: 'clinkz',\n",
       " 57: 'omniknight',\n",
       " 58: 'enchantress',\n",
       " 59: 'huskar',\n",
       " 60: 'night stalker',\n",
       " 61: 'broodmother',\n",
       " 62: 'bounty hunter',\n",
       " 63: 'weaver',\n",
       " 64: 'jakiro',\n",
       " 65: 'batrider',\n",
       " 66: 'chen',\n",
       " 67: 'spectre',\n",
       " 68: 'ancient apparition',\n",
       " 69: 'doom bringer',\n",
       " 70: 'ursa',\n",
       " 71: 'spirit breaker',\n",
       " 72: 'gyrocopter',\n",
       " 73: 'alchemist',\n",
       " 74: 'invoker',\n",
       " 75: 'silencer',\n",
       " 76: 'obsidian destroyer',\n",
       " 77: 'lycan',\n",
       " 78: 'brewmaster',\n",
       " 79: 'shadow demon',\n",
       " 80: 'lone druid',\n",
       " 81: 'chaos knight',\n",
       " 82: 'meepo',\n",
       " 83: 'treant',\n",
       " 84: 'ogre magi',\n",
       " 85: 'undying',\n",
       " 86: 'rubick',\n",
       " 87: 'disruptor',\n",
       " 88: 'nyx assassin',\n",
       " 89: 'naga siren',\n",
       " 90: 'keeper of the light',\n",
       " 91: 'wisp',\n",
       " 92: 'visage',\n",
       " 93: 'slark',\n",
       " 94: 'medusa',\n",
       " 95: 'troll warlord',\n",
       " 96: 'centaur',\n",
       " 97: 'magnataur',\n",
       " 98: 'shredder',\n",
       " 99: 'bristleback',\n",
       " 100: 'tusk',\n",
       " 101: 'skywrath mage',\n",
       " 102: 'abaddon',\n",
       " 103: 'elder titan',\n",
       " 104: 'legion commander',\n",
       " 105: 'techies',\n",
       " 106: 'ember spirit',\n",
       " 107: 'earth spirit',\n",
       " 108: 'abyssal underlord',\n",
       " 109: 'terrorblade',\n",
       " 110: 'phoenix',\n",
       " 111: 'oracle',\n",
       " 112: 'winter wyvern',\n",
       " 113: 'arc warden',\n",
       " 114: 'monkey king'}"
      ]
     },
     "execution_count": 20,
     "metadata": {},
     "output_type": "execute_result"
    }
   ],
   "source": [
    "heroes"
   ]
  },
  {
   "cell_type": "code",
   "execution_count": null,
   "metadata": {
    "collapsed": true
   },
   "outputs": [],
   "source": []
  }
 ],
 "metadata": {
  "kernelspec": {
   "display_name": "Python 3",
   "language": "python",
   "name": "python3"
  },
  "language_info": {
   "codemirror_mode": {
    "name": "ipython",
    "version": 3
   },
   "file_extension": ".py",
   "mimetype": "text/x-python",
   "name": "python",
   "nbconvert_exporter": "python",
   "pygments_lexer": "ipython3",
   "version": "3.4.3"
  }
 },
 "nbformat": 4,
 "nbformat_minor": 0
}
