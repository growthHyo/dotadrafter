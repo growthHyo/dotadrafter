{
 "cells": [
  {
   "cell_type": "code",
   "execution_count": 1,
   "metadata": {
    "collapsed": false
   },
   "outputs": [],
   "source": [
    "import pandas as pd\n",
    "import requests"
   ]
  },
  {
   "cell_type": "code",
   "execution_count": 2,
   "metadata": {
    "collapsed": false
   },
   "outputs": [],
   "source": [
    "res = requests.get('http://www.dotabuff.com/heroes/meta', headers={'User-Agent': 'Grue'})"
   ]
  },
  {
   "cell_type": "code",
   "execution_count": 3,
   "metadata": {
    "collapsed": false
   },
   "outputs": [],
   "source": [
    "meta = pd.read_html(res.text)[0]"
   ]
  },
  {
   "cell_type": "code",
   "execution_count": 4,
   "metadata": {
    "collapsed": false
   },
   "outputs": [],
   "source": [
    "meta = meta.drop(meta.columns[12:], axis=1)\n",
    "meta = meta.drop(meta.columns[[0,2,4,6,8,10]], axis=1)"
   ]
  },
  {
   "cell_type": "code",
   "execution_count": 5,
   "metadata": {
    "collapsed": true
   },
   "outputs": [],
   "source": [
    "meta.columns=['Hero', 1500, 2500, 3500, 4500, 5500]"
   ]
  },
  {
   "cell_type": "code",
   "execution_count": 6,
   "metadata": {
    "collapsed": false
   },
   "outputs": [],
   "source": [
    "meta = meta.set_index('Hero')"
   ]
  },
  {
   "cell_type": "code",
   "execution_count": 7,
   "metadata": {
    "collapsed": true
   },
   "outputs": [],
   "source": [
    "meta.columns=[1500, 2500, 3500, 4500, 5500]"
   ]
  },
  {
   "cell_type": "code",
   "execution_count": 8,
   "metadata": {
    "collapsed": false
   },
   "outputs": [],
   "source": [
    "meta = meta.replace('%','',regex=True).astype('float')/100"
   ]
  },
  {
   "cell_type": "code",
   "execution_count": 9,
   "metadata": {
    "collapsed": false
   },
   "outputs": [],
   "source": [
    "import matplotlib.pyplot as plt"
   ]
  },
  {
   "cell_type": "code",
   "execution_count": 10,
   "metadata": {
    "collapsed": true
   },
   "outputs": [],
   "source": [
    "%matplotlib inline  "
   ]
  },
  {
   "cell_type": "code",
   "execution_count": 11,
   "metadata": {
    "collapsed": true
   },
   "outputs": [],
   "source": [
    "from scipy import stats"
   ]
  },
  {
   "cell_type": "code",
   "execution_count": 12,
   "metadata": {
    "collapsed": false
   },
   "outputs": [],
   "source": [
    "from imp import reload\n",
    "from drafterANN import *\n",
    "\n",
    "drafter = DotoAnn()"
   ]
  },
  {
   "cell_type": "code",
   "execution_count": 13,
   "metadata": {
    "collapsed": false
   },
   "outputs": [],
   "source": [
    "%load_ext autoreload\n",
    "%autoreload 2"
   ]
  },
  {
   "cell_type": "code",
   "execution_count": 14,
   "metadata": {
    "collapsed": true
   },
   "outputs": [],
   "source": [
    "meta_scales = np.zeros((max_heroes, 1))"
   ]
  },
  {
   "cell_type": "code",
   "execution_count": 15,
   "metadata": {
    "collapsed": false
   },
   "outputs": [],
   "source": [
    "meta_test = dict()\n",
    "x = meta.columns\n",
    "\n",
    "i = 1\n",
    "\n",
    "for row in meta.iterrows():\n",
    "    while i not in heroes:\n",
    "        i += 1\n",
    "    hero = row[0]\n",
    "    y = row[1]\n",
    "    model = stats.linregress(x, y)\n",
    "    m = model.slope\n",
    "    meta_scales[i] = m\n",
    "    i += 1\n",
    "    \n",
    "    meta_test[hero] = m"
   ]
  },
  {
   "cell_type": "code",
   "execution_count": 16,
   "metadata": {
    "collapsed": false
   },
   "outputs": [
    {
     "data": {
      "text/plain": [
       "(240, 1)"
      ]
     },
     "execution_count": 16,
     "metadata": {},
     "output_type": "execute_result"
    }
   ],
   "source": [
    "np.vstack((meta_scales, np.zeros((max_heroes, 1)))).shape"
   ]
  },
  {
   "cell_type": "code",
   "execution_count": 17,
   "metadata": {
    "collapsed": false
   },
   "outputs": [],
   "source": [
    "np.save('data/mmr_scale', meta_scales)"
   ]
  },
  {
   "cell_type": "code",
   "execution_count": 18,
   "metadata": {
    "collapsed": false
   },
   "outputs": [
    {
     "name": "stdout",
     "output_type": "stream",
     "text": [
      "Bristleback -1.843e-05\n",
      "Wraith King -1.819e-05\n",
      "Axe -1.573e-05\n",
      "Ursa -1.551e-05\n",
      "Spectre -1.528e-05\n",
      "Necrophos -1.493e-05\n",
      "Riki -1.472e-05\n",
      "Crystal Maiden -1.46e-05\n",
      "Medusa -1.39e-05\n",
      "Zeus -1.368e-05\n",
      "Jakiro -1.338e-05\n",
      "Phantom Assassin -1.246e-05\n",
      "Lich -1.066e-05\n",
      "Slark -1.061e-05\n",
      "Legion Commander -1.037e-05\n",
      "Warlock -9.94e-06\n",
      "Shadow Shaman -9.93e-06\n",
      "Shadow Fiend -9.78e-06\n",
      "Weaver -9.13e-06\n",
      "Sven -8.83e-06\n",
      "Abaddon -8.52e-06\n",
      "Phantom Lancer -8.07e-06\n",
      "Phoenix -7.84e-06\n",
      "Troll Warlord -7.76e-06\n",
      "Vengeful Spirit -7.7e-06\n",
      "Sand King -7.53e-06\n",
      "Elder Titan -7.31e-06\n",
      "Mirana -7.14e-06\n",
      "Dragon Knight -7.14e-06\n",
      "Centaur Warrunner -7.12e-06\n",
      "Gyrocopter -6.74e-06\n",
      "Chaos Knight -6.47e-06\n",
      "Treant Protector -6.21e-06\n",
      "Razor -6.14e-06\n",
      "Dazzle -6.05e-06\n",
      "Omniknight -6.03e-06\n",
      "Bloodseeker -5.56e-06\n",
      "Witch Doctor -5.4e-06\n",
      "Ancient Apparition -5.36e-06\n",
      "Ogre Magi -5.3e-06\n",
      "Juggernaut -4.79e-06\n",
      "Death Prophet -4.38e-06\n",
      "Tidehunter -3.64e-06\n",
      "Terrorblade -3.55e-06\n",
      "Disruptor -3.32e-06\n",
      "Windranger -3.15e-06\n",
      "Underlord -2.97e-06\n",
      "Spirit Breaker -2.85e-06\n",
      "Slardar -2.57e-06\n",
      "Night Stalker -2.51e-06\n",
      "Pudge -2.42e-06\n",
      "Timbersaw -2.33e-06\n",
      "Luna -2.1e-06\n",
      "Silencer -1.94e-06\n",
      "Techies -1.59e-06\n",
      "Keeper of the Light -1.49e-06\n",
      "Undying -1.31e-06\n",
      "Brewmaster -6.4e-07\n",
      "Venomancer -4.7e-07\n",
      "Drow Ranger 8e-08\n",
      "Viper 6e-07\n",
      "Enigma 6.7e-07\n",
      "Lion 8.1e-07\n",
      "Earthshaker 9.6e-07\n",
      "Sniper 1.41e-06\n",
      "Clockwerk 1.43e-06\n",
      "Lifestealer 2.07e-06\n",
      "Dark Seer 3.18e-06\n",
      "Nature's Prophet 3.2e-06\n",
      "Beastmaster 3.77e-06\n",
      "Alchemist 4.95e-06\n",
      "Lycan 5.21e-06\n",
      "Lina 5.8e-06\n",
      "Tusk 5.87e-06\n",
      "Tinker 7.27e-06\n",
      "Leshrac 7.35e-06\n",
      "Kunkka 7.95e-06\n",
      "Invoker 8.05e-06\n",
      "Chen 9.01e-06\n",
      "Naga Siren 9.1e-06\n",
      "Outworld Devourer 9.13e-06\n",
      "Morphling 9.2e-06\n",
      "Queen of Pain 9.93e-06\n",
      "Magnus 1.007e-05\n",
      "Tiny 1.014e-05\n",
      "Rubick 1.016e-05\n",
      "Nyx Assassin 1.03e-05\n",
      "Clinkz 1.051e-05\n",
      "Winter Wyvern 1.079e-05\n",
      "Ember Spirit 1.094e-05\n",
      "Storm Spirit 1.098e-05\n",
      "Pugna 1.112e-05\n",
      "Batrider 1.114e-05\n",
      "Oracle 1.14e-05\n",
      "Doom 1.14e-05\n",
      "Broodmother 1.18e-05\n",
      "Skywrath Mage 1.248e-05\n",
      "Huskar 1.262e-05\n",
      "Faceless Void 1.344e-05\n",
      "Anti-Mage 1.355e-05\n",
      "Enchantress 1.36e-05\n",
      "Shadow Demon 1.449e-05\n",
      "Puck 1.46e-05\n",
      "Templar Assassin 1.471e-05\n",
      "Meepo 1.577e-05\n",
      "Bounty Hunter 1.815e-05\n",
      "Lone Druid 1.847e-05\n",
      "Bane 1.981e-05\n",
      "Earth Spirit 2.573e-05\n",
      "Visage 3.354e-05\n",
      "Io 3.594e-05\n",
      "Arc Warden 4.291e-05\n"
     ]
    }
   ],
   "source": [
    "for key in sorted(meta_test, key=meta_test.get):\n",
    "    print(key, meta_test[key])"
   ]
  },
  {
   "cell_type": "code",
   "execution_count": 19,
   "metadata": {
    "collapsed": false,
    "scrolled": true
   },
   "outputs": [
    {
     "name": "stdout",
     "output_type": "stream",
     "text": [
      "1.577e-05\n"
     ]
    },
    {
     "data": {
      "image/png": "[encoded data removed]",
      "text/plain": [
       "<matplotlib.figure.Figure at 0x7f9ff7c6f550>"
      ]
     },
     "metadata": {},
     "output_type": "display_data"
    }
   ],
   "source": [
    "y = meta.loc['Meepo']\n",
    "model = stats.linregress(x, y)\n",
    "m = model.slope\n",
    "c = model.intercept\n",
    "\n",
    "y_pred = m*x + c\n",
    "meta.loc['Meepo'].plot()\n",
    "plt.plot(x, y_pred)\n",
    "print(m)"
   ]
  },
  {
   "cell_type": "code",
   "execution_count": 20,
   "metadata": {
    "collapsed": false
   },
   "outputs": [
    {
     "data": {
      "text/plain": [
       "{1: 'antimage',\n",
       " 2: 'axe',\n",
       " 3: 'bane',\n",
       " 4: 'bloodseeker',\n",
       " 5: 'crystal maiden',\n",
       " 6: 'drow ranger',\n",
       " 7: 'earthshaker',\n",
       " 8: 'juggernaut',\n",
       " 9: 'mirana',\n",
       " 10: 'morphling',\n",
       " 11: 'nevermore',\n",
       " 12: 'phantom lancer',\n",
       " 13: 'puck',\n",
       " 14: 'pudge',\n",
       " 15: 'razor',\n",
       " 16: 'sand king',\n",
       " 17: 'storm spirit',\n",
       " 18: 'sven',\n",
       " 19: 'tiny',\n",
       " 20: 'vengefulspirit',\n",
       " 21: 'windrunner',\n",
       " 22: 'zuus',\n",
       " 23: 'kunkka',\n",
       " 25: 'lina',\n",
       " 26: 'lion',\n",
       " 27: 'shadow shaman',\n",
       " 28: 'slardar',\n",
       " 29: 'tidehunter',\n",
       " 30: 'witch doctor',\n",
       " 31: 'lich',\n",
       " 32: 'riki',\n",
       " 33: 'enigma',\n",
       " 34: 'tinker',\n",
       " 35: 'sniper',\n",
       " 36: 'necrolyte',\n",
       " 37: 'warlock',\n",
       " 38: 'beastmaster',\n",
       " 39: 'queenofpain',\n",
       " 40: 'venomancer',\n",
       " 41: 'faceless void',\n",
       " 42: 'skeleton king',\n",
       " 43: 'death prophet',\n",
       " 44: 'phantom assassin',\n",
       " 45: 'pugna',\n",
       " 46: 'templar assassin',\n",
       " 47: 'viper',\n",
       " 48: 'luna',\n",
       " 49: 'dragon knight',\n",
       " 50: 'dazzle',\n",
       " 51: 'rattletrap',\n",
       " 52: 'leshrac',\n",
       " 53: 'furion',\n",
       " 54: 'life stealer',\n",
       " 55: 'dark seer',\n",
       " 56: 'clinkz',\n",
       " 57: 'omniknight',\n",
       " 58: 'enchantress',\n",
       " 59: 'huskar',\n",
       " 60: 'night stalker',\n",
       " 61: 'broodmother',\n",
       " 62: 'bounty hunter',\n",
       " 63: 'weaver',\n",
       " 64: 'jakiro',\n",
       " 65: 'batrider',\n",
       " 66: 'chen',\n",
       " 67: 'spectre',\n",
       " 68: 'ancient apparition',\n",
       " 69: 'doom bringer',\n",
       " 70: 'ursa',\n",
       " 71: 'spirit breaker',\n",
       " 72: 'gyrocopter',\n",
       " 73: 'alchemist',\n",
       " 74: 'invoker',\n",
       " 75: 'silencer',\n",
       " 76: 'obsidian destroyer',\n",
       " 77: 'lycan',\n",
       " 78: 'brewmaster',\n",
       " 79: 'shadow demon',\n",
       " 80: 'lone druid',\n",
       " 81: 'chaos knight',\n",
       " 82: 'meepo',\n",
       " 83: 'treant',\n",
       " 84: 'ogre magi',\n",
       " 85: 'undying',\n",
       " 86: 'rubick',\n",
       " 87: 'disruptor',\n",
       " 88: 'nyx assassin',\n",
       " 89: 'naga siren',\n",
       " 90: 'keeper of the light',\n",
       " 91: 'wisp',\n",
       " 92: 'visage',\n",
       " 93: 'slark',\n",
       " 94: 'medusa',\n",
       " 95: 'troll warlord',\n",
       " 96: 'centaur',\n",
       " 97: 'magnataur',\n",
       " 98: 'shredder',\n",
       " 99: 'bristleback',\n",
       " 100: 'tusk',\n",
       " 101: 'skywrath mage',\n",
       " 102: 'abaddon',\n",
       " 103: 'elder titan',\n",
       " 104: 'legion commander',\n",
       " 105: 'techies',\n",
       " 106: 'ember spirit',\n",
       " 107: 'earth spirit',\n",
       " 108: 'abyssal underlord',\n",
       " 109: 'terrorblade',\n",
       " 110: 'phoenix',\n",
       " 111: 'oracle',\n",
       " 112: 'winter wyvern',\n",
       " 113: 'arc warden'}"
      ]
     },
     "execution_count": 20,
     "metadata": {},
     "output_type": "execute_result"
    }
   ],
   "source": [
    "heroes"
   ]
  },
  {
   "cell_type": "code",
   "execution_count": null,
   "metadata": {
    "collapsed": true
   },
   "outputs": [],
   "source": []
  }
 ],
 "metadata": {
  "kernelspec": {
   "display_name": "Python 3",
   "language": "python",
   "name": "python3"
  },
  "language_info": {
   "codemirror_mode": {
    "name": "ipython",
    "version": 3
   },
   "file_extension": ".py",
   "mimetype": "text/x-python",
   "name": "python",
   "nbconvert_exporter": "python",
   "pygments_lexer": "ipython3",
   "version": "3.4.3"
  }
 },
 "nbformat": 4,
 "nbformat_minor": 0
}
